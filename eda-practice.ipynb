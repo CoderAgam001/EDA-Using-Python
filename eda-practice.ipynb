{
 "cells": [
  {
   "cell_type": "code",
   "execution_count": 1,
   "id": "6dae9133-4b8a-47f2-8b96-2e41d5788ea9",
   "metadata": {},
   "outputs": [],
   "source": [
    "import numpy as np\n",
    "import pandas as pd\n",
    "import matplotlib.pyplot as plt\n",
    "import seaborn as sns\n",
    "import numpy.random as rd"
   ]
  },
  {
   "cell_type": "markdown",
   "id": "a755ecef-0a84-47a6-8e6c-8e97fbe8499a",
   "metadata": {},
   "source": [
    "----------------"
   ]
  },
  {
   "cell_type": "code",
   "execution_count": 2,
   "id": "6d3fa002",
   "metadata": {},
   "outputs": [
    {
     "data": {
      "text/plain": [
       "array([[1, 2, 3],\n",
       "       [4, 5, 6],\n",
       "       [7, 8, 9]])"
      ]
     },
     "execution_count": 2,
     "metadata": {},
     "output_type": "execute_result"
    }
   ],
   "source": [
    "arr = np.array([[1, 2, 3], [4, 5, 6], [7, 8, 9]])\n",
    "arr"
   ]
  },
  {
   "cell_type": "code",
   "execution_count": 3,
   "id": "471516a5",
   "metadata": {},
   "outputs": [
    {
     "data": {
      "text/plain": [
       "(3, 3)"
      ]
     },
     "execution_count": 3,
     "metadata": {},
     "output_type": "execute_result"
    }
   ],
   "source": [
    "np.shape(arr)"
   ]
  },
  {
   "cell_type": "code",
   "execution_count": 4,
   "id": "81d9a2e2",
   "metadata": {},
   "outputs": [
    {
     "name": "stdout",
     "output_type": "stream",
     "text": [
      "[[[ 1  2]\n",
      "  [ 3  4]\n",
      "  [ 5  6]]\n",
      "\n",
      " [[ 7  8]\n",
      "  [ 9 10]\n",
      "  [11 12]]\n",
      "\n",
      " [[13 14]\n",
      "  [15 16]\n",
      "  [17 18]]\n",
      "\n",
      " [[19 20]\n",
      "  [21 22]\n",
      "  [23 24]]]\n"
     ]
    }
   ],
   "source": [
    "arr = np.arange(1,25).reshape(4, 3, 2)\n",
    "print(arr)"
   ]
  },
  {
   "cell_type": "code",
   "execution_count": 5,
   "id": "38e8df20",
   "metadata": {},
   "outputs": [
    {
     "data": {
      "text/plain": [
       "array([['', '', '', ''],\n",
       "       ['', '', '', ''],\n",
       "       ['', '', '', '']], dtype='<U1')"
      ]
     },
     "execution_count": 5,
     "metadata": {},
     "output_type": "execute_result"
    }
   ],
   "source": [
    "arr = np.zeros((3, 4), dtype=str)\n",
    "arr"
   ]
  },
  {
   "cell_type": "code",
   "execution_count": 6,
   "id": "60f0a25e",
   "metadata": {},
   "outputs": [
    {
     "name": "stdout",
     "output_type": "stream",
     "text": [
      "[[[1. 1. 1. 1.]\n",
      "  [1. 1. 1. 1.]\n",
      "  [1. 1. 1. 1.]]\n",
      "\n",
      " [[1. 1. 1. 1.]\n",
      "  [1. 1. 1. 1.]\n",
      "  [1. 1. 1. 1.]]\n",
      "\n",
      " [[1. 1. 1. 1.]\n",
      "  [1. 1. 1. 1.]\n",
      "  [1. 1. 1. 1.]]]\n"
     ]
    }
   ],
   "source": [
    "arr = np.ones((3,3,4))\n",
    "print(arr)"
   ]
  },
  {
   "cell_type": "code",
   "execution_count": 7,
   "id": "798967f2",
   "metadata": {},
   "outputs": [
    {
     "name": "stdout",
     "output_type": "stream",
     "text": [
      "[[[ 73   9  56  66  76  63  92  36  13  23  57  15  27  41  94]\n",
      "  [ 14  77  32  54   5  35   7  12  44   7  82  61   7  94  98]\n",
      "  [ 28  36  29   5  29  68  65  70  62  81  82  63  75  81  42]\n",
      "  [ 46  99  45  35  45  48  56  19  63  16  59  26  98  92  42]\n",
      "  [ 44  93  92  20  34  97  37  37  57  60  68  98  48  34  62]\n",
      "  [100  21  55   3   6  32  53  82  19  59  95  62   1  42  61]\n",
      "  [  1  66  62  54  56  96  61   5  14  63  83  28  96  19  72]\n",
      "  [ 30  25  16   9  62  79  75   2  59  28  17  62  80  77  90]\n",
      "  [  6   5  21  32  59  20  24  44  62  28  50  36  53  22  21]\n",
      "  [ 19  86  64   4  32  57  48  80  39   2  37  93  45  73  31]]\n",
      "\n",
      " [[ 55  89  86  94  10  24  41  58   1   5  92  46  92  94  28]\n",
      "  [ 54  83  25   5  57  32  14  28  98  72   6  44  98  66  54]\n",
      "  [ 86  78  79  82  71  56   2   4  97  78  49  20  29  29  87]\n",
      "  [ 62  22  16  47   3  60  63   8  39  31  22  32  42  37  57]\n",
      "  [ 78  41   6  46  50  21  18  77  61  22  14  86  84  24  40]\n",
      "  [ 82  81  73   6  88  89  69  93  26  63  73  84  84  39  44]\n",
      "  [ 85  35  37  60  20 100  90  92  43  35  95  16  65  54  73]\n",
      "  [ 30  36  47  95  72  56  73  94   6  11  86  41  14  10  42]\n",
      "  [ 62  24  60  16  56  45  73  64  55  55   3  64 100  83  18]\n",
      "  [ 98  81  95  46  70  24  71  84  69  79  44  93  64  95  60]]]\n"
     ]
    }
   ],
   "source": [
    "arr = rd.randint(1, 101, size = [2, 10, 15])\n",
    "print(arr)"
   ]
  },
  {
   "cell_type": "code",
   "execution_count": 8,
   "id": "6bf24167",
   "metadata": {},
   "outputs": [
    {
     "name": "stdout",
     "output_type": "stream",
     "text": [
      "[[ 57  53   9 100  67  52  51]\n",
      " [ 29  44  56  88  59  36  83]\n",
      " [ 19  10  74  75  96  54  37]\n",
      " [  1  42  40  40   9  68  14]\n",
      " [ 81  70  13  65  47  93  70]]\n"
     ]
    }
   ],
   "source": [
    "arr1 = rd.randint(1, 101, size = [5,7])\n",
    "print(arr1)"
   ]
  },
  {
   "cell_type": "code",
   "execution_count": 9,
   "id": "8b998517",
   "metadata": {},
   "outputs": [
    {
     "name": "stdout",
     "output_type": "stream",
     "text": [
      "[[[[ 90  61  91  26]\n",
      "   [  5  46  58  20]\n",
      "   [ 62  16 100  83]\n",
      "   [ 86  47  33  71]]\n",
      "\n",
      "  [[  9  12  81   6]\n",
      "   [ 28  27  58  87]\n",
      "   [ 47   6  83  93]\n",
      "   [ 93  55  13  63]]\n",
      "\n",
      "  [[ 73  84  47  18]\n",
      "   [ 44  81  79  68]\n",
      "   [ 18  63  22  23]\n",
      "   [ 38   6  94  16]]]\n",
      "\n",
      "\n",
      " [[[ 88  41  65  81]\n",
      "   [ 38  97  62  40]\n",
      "   [ 62  31  44  56]\n",
      "   [ 43  43  67  42]]\n",
      "\n",
      "  [[ 10  54  61  49]\n",
      "   [ 92   9  46  82]\n",
      "   [ 24  20  49  25]\n",
      "   [  6  91  23  97]]\n",
      "\n",
      "  [[ 89  56  67  98]\n",
      "   [  8  57   3   8]\n",
      "   [ 76  69  53  93]\n",
      "   [ 56  53  40  82]]]\n",
      "\n",
      "\n",
      " [[[ 14  83  43   2]\n",
      "   [ 98   0  63  44]\n",
      "   [ 21  87  29  68]\n",
      "   [ 70   1  58  94]]\n",
      "\n",
      "  [[ 60  83  79  85]\n",
      "   [ 29  21  77  51]\n",
      "   [ 23  94  20   6]\n",
      "   [  5   9  38   0]]\n",
      "\n",
      "  [[ 61  85  92  62]\n",
      "   [ 57  79  74  96]\n",
      "   [ 79  71  41  59]\n",
      "   [ 55  67   5  34]]]]\n"
     ]
    }
   ],
   "source": [
    "arr1 = rd.choice(np.arange(101), size = [3, 3, 4, 4])\n",
    "print(arr1)"
   ]
  },
  {
   "cell_type": "code",
   "execution_count": 10,
   "id": "3efa1b6b",
   "metadata": {},
   "outputs": [
    {
     "data": {
      "text/plain": [
       "array([[81, 58, 84, 59],\n",
       "       [25, 23, 81, 71],\n",
       "       [91, 43, 57, 67]])"
      ]
     },
     "execution_count": 10,
     "metadata": {},
     "output_type": "execute_result"
    }
   ],
   "source": [
    "rd.choice(arr1.flatten(), size = [3, 4])"
   ]
  },
  {
   "cell_type": "code",
   "execution_count": 11,
   "id": "5648f0d8",
   "metadata": {},
   "outputs": [
    {
     "data": {
      "text/plain": [
       "array([[0.00526981, 0.88657043, 0.50809502, 0.08424573, 0.27723816],\n",
       "       [0.88762315, 0.5401044 , 0.48711437, 0.55691082, 0.69433727],\n",
       "       [0.91698222, 0.51757637, 0.59084301, 0.98319998, 0.26474695]])"
      ]
     },
     "execution_count": 11,
     "metadata": {},
     "output_type": "execute_result"
    }
   ],
   "source": [
    "rd.rand(3,5)"
   ]
  },
  {
   "cell_type": "code",
   "execution_count": 12,
   "id": "6adcaea6",
   "metadata": {},
   "outputs": [
    {
     "data": {
      "text/plain": [
       "array([[83, 99, 99, 67, 82],\n",
       "       [61, 85, 92,  1, 23],\n",
       "       [53, 87, 93, 70, 26]])"
      ]
     },
     "execution_count": 12,
     "metadata": {},
     "output_type": "execute_result"
    }
   ],
   "source": [
    "rd.randint(1, 101, size = [3, 5])"
   ]
  },
  {
   "cell_type": "code",
   "execution_count": 13,
   "id": "283c93d5",
   "metadata": {},
   "outputs": [
    {
     "data": {
      "text/plain": [
       "array([[98.66780497, 62.17633641, 14.68466612, 12.5588043 , 85.08659457],\n",
       "       [65.24535637, 63.04007711, 12.44313844, 18.06197186, 88.45001709],\n",
       "       [20.52909286, 20.766995  , 18.58527872, 28.04567949, 40.73506953]])"
      ]
     },
     "execution_count": 13,
     "metadata": {},
     "output_type": "execute_result"
    }
   ],
   "source": [
    "rd.uniform(1, 101, size = [3, 5])"
   ]
  },
  {
   "cell_type": "code",
   "execution_count": 14,
   "id": "12c7243d",
   "metadata": {},
   "outputs": [
    {
     "name": "stdout",
     "output_type": "stream",
     "text": [
      "[[[54. 85. 46. 95. 21. 47. 35. 29.]]]\n"
     ]
    }
   ],
   "source": [
    "x = np.array([54,85,46,95,21,47,35,29], ndmin=3, dtype=float)\n",
    "print(x)"
   ]
  },
  {
   "cell_type": "code",
   "execution_count": 15,
   "id": "ddb695f8",
   "metadata": {},
   "outputs": [
    {
     "data": {
      "text/plain": [
       "95.0"
      ]
     },
     "execution_count": 15,
     "metadata": {},
     "output_type": "execute_result"
    }
   ],
   "source": [
    "np.max(x)"
   ]
  },
  {
   "cell_type": "code",
   "execution_count": 16,
   "id": "5d41e0bc",
   "metadata": {},
   "outputs": [
    {
     "data": {
      "text/plain": [
       "21.0"
      ]
     },
     "execution_count": 16,
     "metadata": {},
     "output_type": "execute_result"
    }
   ],
   "source": [
    "np.min(x)"
   ]
  },
  {
   "cell_type": "code",
   "execution_count": 17,
   "id": "804f964b",
   "metadata": {},
   "outputs": [
    {
     "data": {
      "text/plain": [
       "4"
      ]
     },
     "execution_count": 17,
     "metadata": {},
     "output_type": "execute_result"
    }
   ],
   "source": [
    "np.argmin(x)"
   ]
  },
  {
   "cell_type": "code",
   "execution_count": 18,
   "id": "dccf13c5",
   "metadata": {},
   "outputs": [
    {
     "data": {
      "text/plain": [
       "3"
      ]
     },
     "execution_count": 18,
     "metadata": {},
     "output_type": "execute_result"
    }
   ],
   "source": [
    "np.argmax(x)"
   ]
  },
  {
   "cell_type": "code",
   "execution_count": 19,
   "id": "26dcb428",
   "metadata": {},
   "outputs": [
    {
     "data": {
      "text/plain": [
       "50.973333333333336"
      ]
     },
     "execution_count": 19,
     "metadata": {},
     "output_type": "execute_result"
    }
   ],
   "source": [
    "np.mean(arr)"
   ]
  },
  {
   "cell_type": "code",
   "execution_count": 20,
   "id": "4e08ea78-360e-4acb-a794-ab696c208365",
   "metadata": {},
   "outputs": [
    {
     "data": {
      "text/plain": [
       "54.0"
      ]
     },
     "execution_count": 20,
     "metadata": {},
     "output_type": "execute_result"
    }
   ],
   "source": [
    "np.median(arr)"
   ]
  },
  {
   "cell_type": "code",
   "execution_count": 21,
   "id": "098cde45-d174-4309-9023-0cc6300b053c",
   "metadata": {},
   "outputs": [
    {
     "data": {
      "text/plain": [
       "28.642845916951448"
      ]
     },
     "execution_count": 21,
     "metadata": {},
     "output_type": "execute_result"
    }
   ],
   "source": [
    "np.std(arr)"
   ]
  },
  {
   "cell_type": "code",
   "execution_count": 22,
   "id": "e5b01c27-95e6-4211-8af0-eee7128e4fc0",
   "metadata": {},
   "outputs": [
    {
     "data": {
      "text/plain": [
       "820.4126222222222"
      ]
     },
     "execution_count": 22,
     "metadata": {},
     "output_type": "execute_result"
    }
   ],
   "source": [
    "np.var(arr)"
   ]
  },
  {
   "cell_type": "code",
   "execution_count": 23,
   "id": "66d2d5d1-21f6-44c7-b5e6-9560f1dfe66f",
   "metadata": {},
   "outputs": [
    {
     "data": {
      "text/plain": [
       "array([[[3.54211805e+093, 1.00140253e+164, 3.06803463e+076,\n",
       "         7.65142812e+187, 5.84258702e+027, 3.87792426e+078,\n",
       "         1.10250750e+054, 2.56768615e+042]]])"
      ]
     },
     "execution_count": 23,
     "metadata": {},
     "output_type": "execute_result"
    }
   ],
   "source": [
    "np.power(x, x)"
   ]
  },
  {
   "cell_type": "code",
   "execution_count": 24,
   "id": "769da054-195c-4735-83cc-4b25ec47e384",
   "metadata": {},
   "outputs": [
    {
     "name": "stdout",
     "output_type": "stream",
     "text": [
      "[ 73   9  56  66  76  63  92  36  13  23  57  15  27  41  94  14  77  32\n",
      "  54   5  35   7  12  44   7  82  61   7  94  98  28  36  29   5  29  68\n",
      "  65  70  62  81  82  63  75  81  42  46  99  45  35  45  48  56  19  63\n",
      "  16  59  26  98  92  42  44  93  92  20  34  97  37  37  57  60  68  98\n",
      "  48  34  62 100  21  55   3   6  32  53  82  19  59  95  62   1  42  61\n",
      "   1  66  62  54  56  96  61   5  14  63  83  28  96  19  72  30  25  16\n",
      "   9  62  79  75   2  59  28  17  62  80  77  90   6   5  21  32  59  20\n",
      "  24  44  62  28  50  36  53  22  21  19  86  64   4  32  57  48  80  39\n",
      "   2  37  93  45  73  31  55  89  86  94  10  24  41  58   1   5  92  46\n",
      "  92  94  28  54  83  25   5  57  32  14  28  98  72   6  44  98  66  54\n",
      "  86  78  79  82  71  56   2   4  97  78  49  20  29  29  87  62  22  16\n",
      "  47   3  60  63   8  39  31  22  32  42  37  57  78  41   6  46  50  21\n",
      "  18  77  61  22  14  86  84  24  40  82  81  73   6  88  89  69  93  26\n",
      "  63  73  84  84  39  44  85  35  37  60  20 100  90  92  43  35  95  16\n",
      "  65  54  73  30  36  47  95  72  56  73  94   6  11  86  41  14  10  42\n",
      "  62  24  60  16  56  45  73  64  55  55   3  64 100  83  18  98  81  95\n",
      "  46  70  24  71  84  69  79  44  93  64  95  60]\n"
     ]
    }
   ],
   "source": [
    "x = arr.flatten()\n",
    "print(x)"
   ]
  },
  {
   "cell_type": "code",
   "execution_count": 25,
   "id": "5ef5166d-648b-4801-a910-3538d92abdf8",
   "metadata": {},
   "outputs": [
    {
     "data": {
      "text/plain": [
       "array([  1,   1,   1,   2,   2,   2,   3,   3,   3,   4,   4,   5,   5,\n",
       "         5,   5,   5,   5,   6,   6,   6,   6,   6,   6,   7,   7,   7,\n",
       "         8,   9,   9,  10,  10,  11,  12,  13,  14,  14,  14,  14,  14,\n",
       "        15,  16,  16,  16,  16,  16,  17,  18,  18,  19,  19,  19,  19,\n",
       "        20,  20,  20,  20,  21,  21,  21,  21,  22,  22,  22,  22,  23,\n",
       "        24,  24,  24,  24,  24,  25,  25,  26,  26,  27,  28,  28,  28,\n",
       "        28,  28,  28,  29,  29,  29,  29,  30,  30,  31,  31,  32,  32,\n",
       "        32,  32,  32,  32,  34,  34,  35,  35,  35,  35,  36,  36,  36,\n",
       "        36,  37,  37,  37,  37,  37,  39,  39,  39,  40,  41,  41,  41,\n",
       "        41,  42,  42,  42,  42,  42,  43,  44,  44,  44,  44,  44,  44,\n",
       "        45,  45,  45,  45,  46,  46,  46,  46,  47,  47,  48,  48,  48,\n",
       "        49,  50,  50,  53,  53,  54,  54,  54,  54,  54,  55,  55,  55,\n",
       "        55,  56,  56,  56,  56,  56,  56,  57,  57,  57,  57,  57,  58,\n",
       "        59,  59,  59,  59,  60,  60,  60,  60,  60,  61,  61,  61,  61,\n",
       "        62,  62,  62,  62,  62,  62,  62,  62,  62,  63,  63,  63,  63,\n",
       "        63,  63,  64,  64,  64,  64,  65,  65,  66,  66,  66,  68,  68,\n",
       "        69,  69,  70,  70,  71,  71,  72,  72,  72,  73,  73,  73,  73,\n",
       "        73,  73,  73,  75,  75,  76,  77,  77,  77,  78,  78,  78,  79,\n",
       "        79,  79,  80,  80,  81,  81,  81,  81,  82,  82,  82,  82,  82,\n",
       "        83,  83,  83,  84,  84,  84,  84,  85,  86,  86,  86,  86,  86,\n",
       "        87,  88,  89,  89,  90,  90,  92,  92,  92,  92,  92,  92,  93,\n",
       "        93,  93,  93,  94,  94,  94,  94,  94,  95,  95,  95,  95,  95,\n",
       "        96,  96,  97,  97,  98,  98,  98,  98,  98,  98,  99, 100, 100,\n",
       "       100])"
      ]
     },
     "execution_count": 25,
     "metadata": {},
     "output_type": "execute_result"
    }
   ],
   "source": [
    "np.sort(x)"
   ]
  },
  {
   "cell_type": "code",
   "execution_count": 26,
   "id": "32dc950b-4e82-4ff6-9d77-d229c16f2750",
   "metadata": {},
   "outputs": [
    {
     "data": {
      "text/plain": [
       "array([100, 100, 100,  99,  98,  98,  98,  98,  98,  98,  97,  97,  96,\n",
       "        96,  95,  95,  95,  95,  95,  94,  94,  94,  94,  94,  93,  93,\n",
       "        93,  93,  92,  92,  92,  92,  92,  92,  90,  90,  89,  89,  88,\n",
       "        87,  86,  86,  86,  86,  86,  85,  84,  84,  84,  84,  83,  83,\n",
       "        83,  82,  82,  82,  82,  82,  81,  81,  81,  81,  80,  80,  79,\n",
       "        79,  79,  78,  78,  78,  77,  77,  77,  76,  75,  75,  73,  73,\n",
       "        73,  73,  73,  73,  73,  72,  72,  72,  71,  71,  70,  70,  69,\n",
       "        69,  68,  68,  66,  66,  66,  65,  65,  64,  64,  64,  64,  63,\n",
       "        63,  63,  63,  63,  63,  62,  62,  62,  62,  62,  62,  62,  62,\n",
       "        62,  61,  61,  61,  61,  60,  60,  60,  60,  60,  59,  59,  59,\n",
       "        59,  58,  57,  57,  57,  57,  57,  56,  56,  56,  56,  56,  56,\n",
       "        55,  55,  55,  55,  54,  54,  54,  54,  54,  53,  53,  50,  50,\n",
       "        49,  48,  48,  48,  47,  47,  46,  46,  46,  46,  45,  45,  45,\n",
       "        45,  44,  44,  44,  44,  44,  44,  43,  42,  42,  42,  42,  42,\n",
       "        41,  41,  41,  41,  40,  39,  39,  39,  37,  37,  37,  37,  37,\n",
       "        36,  36,  36,  36,  35,  35,  35,  35,  34,  34,  32,  32,  32,\n",
       "        32,  32,  32,  31,  31,  30,  30,  29,  29,  29,  29,  28,  28,\n",
       "        28,  28,  28,  28,  27,  26,  26,  25,  25,  24,  24,  24,  24,\n",
       "        24,  23,  22,  22,  22,  22,  21,  21,  21,  21,  20,  20,  20,\n",
       "        20,  19,  19,  19,  19,  18,  18,  17,  16,  16,  16,  16,  16,\n",
       "        15,  14,  14,  14,  14,  14,  13,  12,  11,  10,  10,   9,   9,\n",
       "         8,   7,   7,   7,   6,   6,   6,   6,   6,   6,   5,   5,   5,\n",
       "         5,   5,   5,   4,   4,   3,   3,   3,   2,   2,   2,   1,   1,\n",
       "         1])"
      ]
     },
     "execution_count": 26,
     "metadata": {},
     "output_type": "execute_result"
    }
   ],
   "source": [
    "(np.sort(x))[::-1]"
   ]
  },
  {
   "cell_type": "code",
   "execution_count": 27,
   "id": "5b10155b",
   "metadata": {},
   "outputs": [
    {
     "data": {
      "text/plain": [
       "array([[ 73,   9,  56,  66,  76,  63,  92,  36,  13,  23,  57,  15,  27,\n",
       "         41,  94,  14,  77,  32,  54,   5,  35,   7,  12,  44,   7,  82,\n",
       "         61,   7,  94,  98,  28,  36,  29,   5,  29,  68,  65,  70,  62,\n",
       "         81,  82,  63,  75,  81,  42,  46,  99,  45,  35,  45,  48,  56,\n",
       "         19,  63,  16,  59,  26,  98,  92,  42,  44,  93,  92,  20,  34,\n",
       "         97,  37,  37,  57,  60,  68,  98,  48,  34,  62, 100,  21,  55,\n",
       "          3,   6,  32,  53,  82,  19,  59,  95,  62,   1,  42,  61,   1,\n",
       "         66,  62,  54,  56,  96,  61,   5,  14,  63,  83,  28,  96,  19,\n",
       "         72,  30,  25,  16,   9,  62,  79,  75,   2,  59,  28,  17,  62,\n",
       "         80,  77,  90,   6,   5,  21,  32,  59,  20,  24,  44,  62,  28,\n",
       "         50,  36,  53,  22,  21,  19,  86,  64,   4,  32,  57,  48,  80,\n",
       "         39,   2,  37,  93,  45,  73,  31,  55,  89,  86,  94,  10,  24,\n",
       "         41,  58,   1,   5,  92,  46,  92,  94,  28,  54,  83,  25,   5,\n",
       "         57,  32,  14,  28,  98,  72,   6,  44,  98,  66,  54,  86,  78,\n",
       "         79,  82,  71,  56,   2,   4,  97,  78,  49,  20,  29,  29,  87,\n",
       "         62,  22,  16,  47,   3,  60,  63,   8,  39,  31,  22,  32,  42,\n",
       "         37,  57,  78,  41,   6,  46,  50,  21,  18,  77,  61,  22,  14,\n",
       "         86,  84,  24,  40,  82,  81,  73,   6,  88,  89,  69,  93,  26,\n",
       "         63,  73,  84,  84,  39,  44,  85,  35,  37,  60,  20, 100,  90,\n",
       "         92,  43,  35,  95,  16,  65,  54,  73,  30,  36,  47,  95,  72,\n",
       "         56,  73,  94,   6,  11,  86,  41,  14,  10,  42,  62,  24,  60,\n",
       "         16,  56,  45,  73,  64,  55,  55,   3,  64, 100,  83,  18,  98,\n",
       "         81,  95,  46,  70,  24,  71,  84,  69,  79,  44,  93,  64,  95,\n",
       "         60]])"
      ]
     },
     "execution_count": 27,
     "metadata": {},
     "output_type": "execute_result"
    }
   ],
   "source": [
    "x.reshape(1,-1) # one column, multiple rows"
   ]
  },
  {
   "cell_type": "code",
   "execution_count": 28,
   "id": "3126a945",
   "metadata": {},
   "outputs": [
    {
     "data": {
      "text/plain": [
       "array([[ 73],\n",
       "       [  9],\n",
       "       [ 56],\n",
       "       [ 66],\n",
       "       [ 76],\n",
       "       [ 63],\n",
       "       [ 92],\n",
       "       [ 36],\n",
       "       [ 13],\n",
       "       [ 23],\n",
       "       [ 57],\n",
       "       [ 15],\n",
       "       [ 27],\n",
       "       [ 41],\n",
       "       [ 94],\n",
       "       [ 14],\n",
       "       [ 77],\n",
       "       [ 32],\n",
       "       [ 54],\n",
       "       [  5],\n",
       "       [ 35],\n",
       "       [  7],\n",
       "       [ 12],\n",
       "       [ 44],\n",
       "       [  7],\n",
       "       [ 82],\n",
       "       [ 61],\n",
       "       [  7],\n",
       "       [ 94],\n",
       "       [ 98],\n",
       "       [ 28],\n",
       "       [ 36],\n",
       "       [ 29],\n",
       "       [  5],\n",
       "       [ 29],\n",
       "       [ 68],\n",
       "       [ 65],\n",
       "       [ 70],\n",
       "       [ 62],\n",
       "       [ 81],\n",
       "       [ 82],\n",
       "       [ 63],\n",
       "       [ 75],\n",
       "       [ 81],\n",
       "       [ 42],\n",
       "       [ 46],\n",
       "       [ 99],\n",
       "       [ 45],\n",
       "       [ 35],\n",
       "       [ 45],\n",
       "       [ 48],\n",
       "       [ 56],\n",
       "       [ 19],\n",
       "       [ 63],\n",
       "       [ 16],\n",
       "       [ 59],\n",
       "       [ 26],\n",
       "       [ 98],\n",
       "       [ 92],\n",
       "       [ 42],\n",
       "       [ 44],\n",
       "       [ 93],\n",
       "       [ 92],\n",
       "       [ 20],\n",
       "       [ 34],\n",
       "       [ 97],\n",
       "       [ 37],\n",
       "       [ 37],\n",
       "       [ 57],\n",
       "       [ 60],\n",
       "       [ 68],\n",
       "       [ 98],\n",
       "       [ 48],\n",
       "       [ 34],\n",
       "       [ 62],\n",
       "       [100],\n",
       "       [ 21],\n",
       "       [ 55],\n",
       "       [  3],\n",
       "       [  6],\n",
       "       [ 32],\n",
       "       [ 53],\n",
       "       [ 82],\n",
       "       [ 19],\n",
       "       [ 59],\n",
       "       [ 95],\n",
       "       [ 62],\n",
       "       [  1],\n",
       "       [ 42],\n",
       "       [ 61],\n",
       "       [  1],\n",
       "       [ 66],\n",
       "       [ 62],\n",
       "       [ 54],\n",
       "       [ 56],\n",
       "       [ 96],\n",
       "       [ 61],\n",
       "       [  5],\n",
       "       [ 14],\n",
       "       [ 63],\n",
       "       [ 83],\n",
       "       [ 28],\n",
       "       [ 96],\n",
       "       [ 19],\n",
       "       [ 72],\n",
       "       [ 30],\n",
       "       [ 25],\n",
       "       [ 16],\n",
       "       [  9],\n",
       "       [ 62],\n",
       "       [ 79],\n",
       "       [ 75],\n",
       "       [  2],\n",
       "       [ 59],\n",
       "       [ 28],\n",
       "       [ 17],\n",
       "       [ 62],\n",
       "       [ 80],\n",
       "       [ 77],\n",
       "       [ 90],\n",
       "       [  6],\n",
       "       [  5],\n",
       "       [ 21],\n",
       "       [ 32],\n",
       "       [ 59],\n",
       "       [ 20],\n",
       "       [ 24],\n",
       "       [ 44],\n",
       "       [ 62],\n",
       "       [ 28],\n",
       "       [ 50],\n",
       "       [ 36],\n",
       "       [ 53],\n",
       "       [ 22],\n",
       "       [ 21],\n",
       "       [ 19],\n",
       "       [ 86],\n",
       "       [ 64],\n",
       "       [  4],\n",
       "       [ 32],\n",
       "       [ 57],\n",
       "       [ 48],\n",
       "       [ 80],\n",
       "       [ 39],\n",
       "       [  2],\n",
       "       [ 37],\n",
       "       [ 93],\n",
       "       [ 45],\n",
       "       [ 73],\n",
       "       [ 31],\n",
       "       [ 55],\n",
       "       [ 89],\n",
       "       [ 86],\n",
       "       [ 94],\n",
       "       [ 10],\n",
       "       [ 24],\n",
       "       [ 41],\n",
       "       [ 58],\n",
       "       [  1],\n",
       "       [  5],\n",
       "       [ 92],\n",
       "       [ 46],\n",
       "       [ 92],\n",
       "       [ 94],\n",
       "       [ 28],\n",
       "       [ 54],\n",
       "       [ 83],\n",
       "       [ 25],\n",
       "       [  5],\n",
       "       [ 57],\n",
       "       [ 32],\n",
       "       [ 14],\n",
       "       [ 28],\n",
       "       [ 98],\n",
       "       [ 72],\n",
       "       [  6],\n",
       "       [ 44],\n",
       "       [ 98],\n",
       "       [ 66],\n",
       "       [ 54],\n",
       "       [ 86],\n",
       "       [ 78],\n",
       "       [ 79],\n",
       "       [ 82],\n",
       "       [ 71],\n",
       "       [ 56],\n",
       "       [  2],\n",
       "       [  4],\n",
       "       [ 97],\n",
       "       [ 78],\n",
       "       [ 49],\n",
       "       [ 20],\n",
       "       [ 29],\n",
       "       [ 29],\n",
       "       [ 87],\n",
       "       [ 62],\n",
       "       [ 22],\n",
       "       [ 16],\n",
       "       [ 47],\n",
       "       [  3],\n",
       "       [ 60],\n",
       "       [ 63],\n",
       "       [  8],\n",
       "       [ 39],\n",
       "       [ 31],\n",
       "       [ 22],\n",
       "       [ 32],\n",
       "       [ 42],\n",
       "       [ 37],\n",
       "       [ 57],\n",
       "       [ 78],\n",
       "       [ 41],\n",
       "       [  6],\n",
       "       [ 46],\n",
       "       [ 50],\n",
       "       [ 21],\n",
       "       [ 18],\n",
       "       [ 77],\n",
       "       [ 61],\n",
       "       [ 22],\n",
       "       [ 14],\n",
       "       [ 86],\n",
       "       [ 84],\n",
       "       [ 24],\n",
       "       [ 40],\n",
       "       [ 82],\n",
       "       [ 81],\n",
       "       [ 73],\n",
       "       [  6],\n",
       "       [ 88],\n",
       "       [ 89],\n",
       "       [ 69],\n",
       "       [ 93],\n",
       "       [ 26],\n",
       "       [ 63],\n",
       "       [ 73],\n",
       "       [ 84],\n",
       "       [ 84],\n",
       "       [ 39],\n",
       "       [ 44],\n",
       "       [ 85],\n",
       "       [ 35],\n",
       "       [ 37],\n",
       "       [ 60],\n",
       "       [ 20],\n",
       "       [100],\n",
       "       [ 90],\n",
       "       [ 92],\n",
       "       [ 43],\n",
       "       [ 35],\n",
       "       [ 95],\n",
       "       [ 16],\n",
       "       [ 65],\n",
       "       [ 54],\n",
       "       [ 73],\n",
       "       [ 30],\n",
       "       [ 36],\n",
       "       [ 47],\n",
       "       [ 95],\n",
       "       [ 72],\n",
       "       [ 56],\n",
       "       [ 73],\n",
       "       [ 94],\n",
       "       [  6],\n",
       "       [ 11],\n",
       "       [ 86],\n",
       "       [ 41],\n",
       "       [ 14],\n",
       "       [ 10],\n",
       "       [ 42],\n",
       "       [ 62],\n",
       "       [ 24],\n",
       "       [ 60],\n",
       "       [ 16],\n",
       "       [ 56],\n",
       "       [ 45],\n",
       "       [ 73],\n",
       "       [ 64],\n",
       "       [ 55],\n",
       "       [ 55],\n",
       "       [  3],\n",
       "       [ 64],\n",
       "       [100],\n",
       "       [ 83],\n",
       "       [ 18],\n",
       "       [ 98],\n",
       "       [ 81],\n",
       "       [ 95],\n",
       "       [ 46],\n",
       "       [ 70],\n",
       "       [ 24],\n",
       "       [ 71],\n",
       "       [ 84],\n",
       "       [ 69],\n",
       "       [ 79],\n",
       "       [ 44],\n",
       "       [ 93],\n",
       "       [ 64],\n",
       "       [ 95],\n",
       "       [ 60]])"
      ]
     },
     "execution_count": 28,
     "metadata": {},
     "output_type": "execute_result"
    }
   ],
   "source": [
    "x.reshape(-1,1) # one row, multiple columns"
   ]
  },
  {
   "cell_type": "markdown",
   "id": "6bed525a",
   "metadata": {},
   "source": [
    "_______"
   ]
  },
  {
   "cell_type": "code",
   "execution_count": 29,
   "id": "db5ddadc",
   "metadata": {},
   "outputs": [
    {
     "data": {
      "text/plain": [
       "0    5\n",
       "1    8\n",
       "2    9\n",
       "3    2\n",
       "4    1\n",
       "5    6\n",
       "dtype: int32"
      ]
     },
     "execution_count": 29,
     "metadata": {},
     "output_type": "execute_result"
    }
   ],
   "source": [
    "ser1 = pd.Series([5,8,9,2,1,6], dtype=int)\n",
    "ser1"
   ]
  },
  {
   "cell_type": "code",
   "execution_count": 30,
   "id": "b34ae48b",
   "metadata": {},
   "outputs": [
    {
     "data": {
      "text/plain": [
       "0        Audi\n",
       "1    Mercedes\n",
       "2         BMW\n",
       "3     Porsche\n",
       "4      Toyota\n",
       "5       Honda\n",
       "dtype: object"
      ]
     },
     "execution_count": 30,
     "metadata": {},
     "output_type": "execute_result"
    }
   ],
   "source": [
    "cars_names = pd.Series([\"Audi\", \"Mercedes\", \"BMW\", \"Porsche\", \"Toyota\", \"Honda\"], dtype=str)\n",
    "cars_names"
   ]
  },
  {
   "cell_type": "code",
   "execution_count": 31,
   "id": "610803f1",
   "metadata": {},
   "outputs": [
    {
     "data": {
      "text/html": [
       "<div>\n",
       "<style scoped>\n",
       "    .dataframe tbody tr th:only-of-type {\n",
       "        vertical-align: middle;\n",
       "    }\n",
       "\n",
       "    .dataframe tbody tr th {\n",
       "        vertical-align: top;\n",
       "    }\n",
       "\n",
       "    .dataframe thead th {\n",
       "        text-align: right;\n",
       "    }\n",
       "</style>\n",
       "<table border=\"1\" class=\"dataframe\">\n",
       "  <thead>\n",
       "    <tr style=\"text-align: right;\">\n",
       "      <th></th>\n",
       "      <th>Cars</th>\n",
       "      <th>Qtys</th>\n",
       "    </tr>\n",
       "  </thead>\n",
       "  <tbody>\n",
       "    <tr>\n",
       "      <th>0</th>\n",
       "      <td>Audi</td>\n",
       "      <td>5</td>\n",
       "    </tr>\n",
       "    <tr>\n",
       "      <th>1</th>\n",
       "      <td>Mercedes</td>\n",
       "      <td>8</td>\n",
       "    </tr>\n",
       "    <tr>\n",
       "      <th>2</th>\n",
       "      <td>BMW</td>\n",
       "      <td>9</td>\n",
       "    </tr>\n",
       "    <tr>\n",
       "      <th>3</th>\n",
       "      <td>Porsche</td>\n",
       "      <td>2</td>\n",
       "    </tr>\n",
       "    <tr>\n",
       "      <th>4</th>\n",
       "      <td>Toyota</td>\n",
       "      <td>1</td>\n",
       "    </tr>\n",
       "    <tr>\n",
       "      <th>5</th>\n",
       "      <td>Honda</td>\n",
       "      <td>6</td>\n",
       "    </tr>\n",
       "  </tbody>\n",
       "</table>\n",
       "</div>"
      ],
      "text/plain": [
       "       Cars  Qtys\n",
       "0      Audi     5\n",
       "1  Mercedes     8\n",
       "2       BMW     9\n",
       "3   Porsche     2\n",
       "4    Toyota     1\n",
       "5     Honda     6"
      ]
     },
     "execution_count": 31,
     "metadata": {},
     "output_type": "execute_result"
    }
   ],
   "source": [
    "cars = pd.DataFrame({\"Cars\": cars_names, \"Qtys\": ser1})\n",
    "cars"
   ]
  },
  {
   "cell_type": "code",
   "execution_count": 32,
   "id": "effd0017",
   "metadata": {},
   "outputs": [
    {
     "data": {
      "text/plain": [
       "(6, 2)"
      ]
     },
     "execution_count": 32,
     "metadata": {},
     "output_type": "execute_result"
    }
   ],
   "source": [
    "cars.shape"
   ]
  },
  {
   "cell_type": "code",
   "execution_count": 33,
   "id": "d320e3b1",
   "metadata": {},
   "outputs": [
    {
     "data": {
      "text/html": [
       "<div>\n",
       "<style scoped>\n",
       "    .dataframe tbody tr th:only-of-type {\n",
       "        vertical-align: middle;\n",
       "    }\n",
       "\n",
       "    .dataframe tbody tr th {\n",
       "        vertical-align: top;\n",
       "    }\n",
       "\n",
       "    .dataframe thead th {\n",
       "        text-align: right;\n",
       "    }\n",
       "</style>\n",
       "<table border=\"1\" class=\"dataframe\">\n",
       "  <thead>\n",
       "    <tr style=\"text-align: right;\">\n",
       "      <th></th>\n",
       "      <th>a</th>\n",
       "      <th>b</th>\n",
       "    </tr>\n",
       "  </thead>\n",
       "  <tbody>\n",
       "    <tr>\n",
       "      <th>0</th>\n",
       "      <td>1</td>\n",
       "      <td>2</td>\n",
       "    </tr>\n",
       "    <tr>\n",
       "      <th>1</th>\n",
       "      <td>2</td>\n",
       "      <td>4</td>\n",
       "    </tr>\n",
       "    <tr>\n",
       "      <th>2</th>\n",
       "      <td>3</td>\n",
       "      <td>6</td>\n",
       "    </tr>\n",
       "    <tr>\n",
       "      <th>3</th>\n",
       "      <td>4</td>\n",
       "      <td>8</td>\n",
       "    </tr>\n",
       "    <tr>\n",
       "      <th>4</th>\n",
       "      <td>5</td>\n",
       "      <td>10</td>\n",
       "    </tr>\n",
       "  </tbody>\n",
       "</table>\n",
       "</div>"
      ],
      "text/plain": [
       "   a   b\n",
       "0  1   2\n",
       "1  2   4\n",
       "2  3   6\n",
       "3  4   8\n",
       "4  5  10"
      ]
     },
     "execution_count": 33,
     "metadata": {},
     "output_type": "execute_result"
    }
   ],
   "source": [
    "df = pd.DataFrame({\n",
    "    \"a\": [1,2,3,4,5],\n",
    "    \"b\": [2,4,6,8,10]\n",
    "})\n",
    "df"
   ]
  },
  {
   "cell_type": "code",
   "execution_count": 34,
   "id": "0b2cc046",
   "metadata": {},
   "outputs": [
    {
     "data": {
      "text/html": [
       "<div>\n",
       "<style scoped>\n",
       "    .dataframe tbody tr th:only-of-type {\n",
       "        vertical-align: middle;\n",
       "    }\n",
       "\n",
       "    .dataframe tbody tr th {\n",
       "        vertical-align: top;\n",
       "    }\n",
       "\n",
       "    .dataframe thead th {\n",
       "        text-align: right;\n",
       "    }\n",
       "</style>\n",
       "<table border=\"1\" class=\"dataframe\">\n",
       "  <thead>\n",
       "    <tr style=\"text-align: right;\">\n",
       "      <th></th>\n",
       "      <th>a</th>\n",
       "      <th>b</th>\n",
       "      <th>c</th>\n",
       "    </tr>\n",
       "  </thead>\n",
       "  <tbody>\n",
       "    <tr>\n",
       "      <th>0</th>\n",
       "      <td>1</td>\n",
       "      <td>2</td>\n",
       "      <td>3</td>\n",
       "    </tr>\n",
       "    <tr>\n",
       "      <th>1</th>\n",
       "      <td>2</td>\n",
       "      <td>4</td>\n",
       "      <td>6</td>\n",
       "    </tr>\n",
       "    <tr>\n",
       "      <th>2</th>\n",
       "      <td>3</td>\n",
       "      <td>6</td>\n",
       "      <td>9</td>\n",
       "    </tr>\n",
       "    <tr>\n",
       "      <th>3</th>\n",
       "      <td>4</td>\n",
       "      <td>8</td>\n",
       "      <td>12</td>\n",
       "    </tr>\n",
       "    <tr>\n",
       "      <th>4</th>\n",
       "      <td>5</td>\n",
       "      <td>10</td>\n",
       "      <td>15</td>\n",
       "    </tr>\n",
       "  </tbody>\n",
       "</table>\n",
       "</div>"
      ],
      "text/plain": [
       "   a   b   c\n",
       "0  1   2   3\n",
       "1  2   4   6\n",
       "2  3   6   9\n",
       "3  4   8  12\n",
       "4  5  10  15"
      ]
     },
     "execution_count": 34,
     "metadata": {},
     "output_type": "execute_result"
    }
   ],
   "source": [
    "df[\"c\"] = df[\"a\"] + df[\"b\"]\n",
    "df"
   ]
  },
  {
   "cell_type": "code",
   "execution_count": 35,
   "id": "e3e783ff",
   "metadata": {},
   "outputs": [
    {
     "data": {
      "text/html": [
       "<div>\n",
       "<style scoped>\n",
       "    .dataframe tbody tr th:only-of-type {\n",
       "        vertical-align: middle;\n",
       "    }\n",
       "\n",
       "    .dataframe tbody tr th {\n",
       "        vertical-align: top;\n",
       "    }\n",
       "\n",
       "    .dataframe thead th {\n",
       "        text-align: right;\n",
       "    }\n",
       "</style>\n",
       "<table border=\"1\" class=\"dataframe\">\n",
       "  <thead>\n",
       "    <tr style=\"text-align: right;\">\n",
       "      <th></th>\n",
       "      <th>a</th>\n",
       "      <th>b</th>\n",
       "      <th>c</th>\n",
       "      <th>d</th>\n",
       "    </tr>\n",
       "  </thead>\n",
       "  <tbody>\n",
       "    <tr>\n",
       "      <th>0</th>\n",
       "      <td>1</td>\n",
       "      <td>2</td>\n",
       "      <td>3</td>\n",
       "      <td>5</td>\n",
       "    </tr>\n",
       "    <tr>\n",
       "      <th>1</th>\n",
       "      <td>2</td>\n",
       "      <td>4</td>\n",
       "      <td>6</td>\n",
       "      <td>20</td>\n",
       "    </tr>\n",
       "    <tr>\n",
       "      <th>2</th>\n",
       "      <td>3</td>\n",
       "      <td>6</td>\n",
       "      <td>9</td>\n",
       "      <td>45</td>\n",
       "    </tr>\n",
       "    <tr>\n",
       "      <th>3</th>\n",
       "      <td>4</td>\n",
       "      <td>8</td>\n",
       "      <td>12</td>\n",
       "      <td>80</td>\n",
       "    </tr>\n",
       "    <tr>\n",
       "      <th>4</th>\n",
       "      <td>5</td>\n",
       "      <td>10</td>\n",
       "      <td>15</td>\n",
       "      <td>125</td>\n",
       "    </tr>\n",
       "  </tbody>\n",
       "</table>\n",
       "</div>"
      ],
      "text/plain": [
       "   a   b   c    d\n",
       "0  1   2   3    5\n",
       "1  2   4   6   20\n",
       "2  3   6   9   45\n",
       "3  4   8  12   80\n",
       "4  5  10  15  125"
      ]
     },
     "execution_count": 35,
     "metadata": {},
     "output_type": "execute_result"
    }
   ],
   "source": [
    "df[\"d\"] = df[\"a\"] * (df[\"b\"] + df[\"c\"])\n",
    "df"
   ]
  },
  {
   "cell_type": "code",
   "execution_count": 36,
   "id": "0716c74e",
   "metadata": {},
   "outputs": [],
   "source": [
    "df.insert(2, \"e\", [11,15,17,19,21])"
   ]
  },
  {
   "cell_type": "code",
   "execution_count": 37,
   "id": "6e2f6236",
   "metadata": {},
   "outputs": [
    {
     "data": {
      "text/html": [
       "<div>\n",
       "<style scoped>\n",
       "    .dataframe tbody tr th:only-of-type {\n",
       "        vertical-align: middle;\n",
       "    }\n",
       "\n",
       "    .dataframe tbody tr th {\n",
       "        vertical-align: top;\n",
       "    }\n",
       "\n",
       "    .dataframe thead th {\n",
       "        text-align: right;\n",
       "    }\n",
       "</style>\n",
       "<table border=\"1\" class=\"dataframe\">\n",
       "  <thead>\n",
       "    <tr style=\"text-align: right;\">\n",
       "      <th></th>\n",
       "      <th>a</th>\n",
       "      <th>b</th>\n",
       "      <th>e</th>\n",
       "      <th>c</th>\n",
       "      <th>d</th>\n",
       "    </tr>\n",
       "  </thead>\n",
       "  <tbody>\n",
       "    <tr>\n",
       "      <th>0</th>\n",
       "      <td>1</td>\n",
       "      <td>2</td>\n",
       "      <td>11</td>\n",
       "      <td>3</td>\n",
       "      <td>5</td>\n",
       "    </tr>\n",
       "    <tr>\n",
       "      <th>1</th>\n",
       "      <td>2</td>\n",
       "      <td>4</td>\n",
       "      <td>15</td>\n",
       "      <td>6</td>\n",
       "      <td>20</td>\n",
       "    </tr>\n",
       "    <tr>\n",
       "      <th>2</th>\n",
       "      <td>3</td>\n",
       "      <td>6</td>\n",
       "      <td>17</td>\n",
       "      <td>9</td>\n",
       "      <td>45</td>\n",
       "    </tr>\n",
       "    <tr>\n",
       "      <th>3</th>\n",
       "      <td>4</td>\n",
       "      <td>8</td>\n",
       "      <td>19</td>\n",
       "      <td>12</td>\n",
       "      <td>80</td>\n",
       "    </tr>\n",
       "    <tr>\n",
       "      <th>4</th>\n",
       "      <td>5</td>\n",
       "      <td>10</td>\n",
       "      <td>21</td>\n",
       "      <td>15</td>\n",
       "      <td>125</td>\n",
       "    </tr>\n",
       "  </tbody>\n",
       "</table>\n",
       "</div>"
      ],
      "text/plain": [
       "   a   b   e   c    d\n",
       "0  1   2  11   3    5\n",
       "1  2   4  15   6   20\n",
       "2  3   6  17   9   45\n",
       "3  4   8  19  12   80\n",
       "4  5  10  21  15  125"
      ]
     },
     "execution_count": 37,
     "metadata": {},
     "output_type": "execute_result"
    }
   ],
   "source": [
    "df"
   ]
  },
  {
   "cell_type": "code",
   "execution_count": null,
   "id": "d525499a",
   "metadata": {},
   "outputs": [
    {
     "data": {
      "text/html": [
       "<div>\n",
       "<style scoped>\n",
       "    .dataframe tbody tr th:only-of-type {\n",
       "        vertical-align: middle;\n",
       "    }\n",
       "\n",
       "    .dataframe tbody tr th {\n",
       "        vertical-align: top;\n",
       "    }\n",
       "\n",
       "    .dataframe thead th {\n",
       "        text-align: right;\n",
       "    }\n",
       "</style>\n",
       "<table border=\"1\" class=\"dataframe\">\n",
       "  <thead>\n",
       "    <tr style=\"text-align: right;\">\n",
       "      <th></th>\n",
       "      <th>Petrol_tax</th>\n",
       "      <th>Average_income</th>\n",
       "      <th>Paved_Highways</th>\n",
       "      <th>Population_Driver_licence(%)</th>\n",
       "      <th>Petrol_Consumption</th>\n",
       "    </tr>\n",
       "  </thead>\n",
       "  <tbody>\n",
       "    <tr>\n",
       "      <th>0</th>\n",
       "      <td>9.0</td>\n",
       "      <td>3571</td>\n",
       "      <td>1976</td>\n",
       "      <td>0.525</td>\n",
       "      <td>541</td>\n",
       "    </tr>\n",
       "    <tr>\n",
       "      <th>1</th>\n",
       "      <td>9.0</td>\n",
       "      <td>4092</td>\n",
       "      <td>1250</td>\n",
       "      <td>0.572</td>\n",
       "      <td>524</td>\n",
       "    </tr>\n",
       "    <tr>\n",
       "      <th>2</th>\n",
       "      <td>9.0</td>\n",
       "      <td>3865</td>\n",
       "      <td>1586</td>\n",
       "      <td>0.580</td>\n",
       "      <td>561</td>\n",
       "    </tr>\n",
       "    <tr>\n",
       "      <th>3</th>\n",
       "      <td>7.5</td>\n",
       "      <td>4870</td>\n",
       "      <td>2351</td>\n",
       "      <td>0.529</td>\n",
       "      <td>414</td>\n",
       "    </tr>\n",
       "    <tr>\n",
       "      <th>4</th>\n",
       "      <td>8.0</td>\n",
       "      <td>4399</td>\n",
       "      <td>431</td>\n",
       "      <td>0.544</td>\n",
       "      <td>410</td>\n",
       "    </tr>\n",
       "  </tbody>\n",
       "</table>\n",
       "</div>"
      ],
      "text/plain": [
       "   Petrol_tax  Average_income  Paved_Highways  Population_Driver_licence(%)  \\\n",
       "0         9.0            3571            1976                         0.525   \n",
       "1         9.0            4092            1250                         0.572   \n",
       "2         9.0            3865            1586                         0.580   \n",
       "3         7.5            4870            2351                         0.529   \n",
       "4         8.0            4399             431                         0.544   \n",
       "\n",
       "   Petrol_Consumption  \n",
       "0                 541  \n",
       "1                 524  \n",
       "2                 561  \n",
       "3                 414  \n",
       "4                 410  "
      ]
     },
     "execution_count": 38,
     "metadata": {},
     "output_type": "execute_result"
    }
   ],
   "source": [
    "df = pd.read_csv(\"petrol_consumption.csv\")\n",
    "df.head()"
   ]
  },
  {
   "cell_type": "code",
   "execution_count": null,
   "id": "dd4d43b2",
   "metadata": {},
   "outputs": [
    {
     "name": "stdout",
     "output_type": "stream",
     "text": [
      "<class 'pandas.core.frame.DataFrame'>\n",
      "RangeIndex: 48 entries, 0 to 47\n",
      "Data columns (total 5 columns):\n",
      " #   Column                        Non-Null Count  Dtype  \n",
      "---  ------                        --------------  -----  \n",
      " 0   Petrol_tax                    48 non-null     float64\n",
      " 1   Average_income                48 non-null     int64  \n",
      " 2   Paved_Highways                48 non-null     int64  \n",
      " 3   Population_Driver_licence(%)  48 non-null     float64\n",
      " 4   Petrol_Consumption            48 non-null     int64  \n",
      "dtypes: float64(2), int64(3)\n",
      "memory usage: 2.0 KB\n"
     ]
    }
   ],
   "source": [
    "df.info() # -> describes the baisc info about the dataset"
   ]
  },
  {
   "cell_type": "code",
   "execution_count": null,
   "id": "fef0260f",
   "metadata": {},
   "outputs": [
    {
     "data": {
      "text/html": [
       "<div>\n",
       "<style scoped>\n",
       "    .dataframe tbody tr th:only-of-type {\n",
       "        vertical-align: middle;\n",
       "    }\n",
       "\n",
       "    .dataframe tbody tr th {\n",
       "        vertical-align: top;\n",
       "    }\n",
       "\n",
       "    .dataframe thead th {\n",
       "        text-align: right;\n",
       "    }\n",
       "</style>\n",
       "<table border=\"1\" class=\"dataframe\">\n",
       "  <thead>\n",
       "    <tr style=\"text-align: right;\">\n",
       "      <th></th>\n",
       "      <th>Petrol_tax</th>\n",
       "      <th>Average_income</th>\n",
       "      <th>Paved_Highways</th>\n",
       "      <th>Population_Driver_licence(%)</th>\n",
       "      <th>Petrol_Consumption</th>\n",
       "    </tr>\n",
       "  </thead>\n",
       "  <tbody>\n",
       "    <tr>\n",
       "      <th>count</th>\n",
       "      <td>48.000000</td>\n",
       "      <td>48.000000</td>\n",
       "      <td>48.000000</td>\n",
       "      <td>48.000000</td>\n",
       "      <td>48.000000</td>\n",
       "    </tr>\n",
       "    <tr>\n",
       "      <th>mean</th>\n",
       "      <td>7.668333</td>\n",
       "      <td>4241.833333</td>\n",
       "      <td>5565.416667</td>\n",
       "      <td>0.570333</td>\n",
       "      <td>576.770833</td>\n",
       "    </tr>\n",
       "    <tr>\n",
       "      <th>std</th>\n",
       "      <td>0.950770</td>\n",
       "      <td>573.623768</td>\n",
       "      <td>3491.507166</td>\n",
       "      <td>0.055470</td>\n",
       "      <td>111.885816</td>\n",
       "    </tr>\n",
       "    <tr>\n",
       "      <th>min</th>\n",
       "      <td>5.000000</td>\n",
       "      <td>3063.000000</td>\n",
       "      <td>431.000000</td>\n",
       "      <td>0.451000</td>\n",
       "      <td>344.000000</td>\n",
       "    </tr>\n",
       "    <tr>\n",
       "      <th>25%</th>\n",
       "      <td>7.000000</td>\n",
       "      <td>3739.000000</td>\n",
       "      <td>3110.250000</td>\n",
       "      <td>0.529750</td>\n",
       "      <td>509.500000</td>\n",
       "    </tr>\n",
       "    <tr>\n",
       "      <th>50%</th>\n",
       "      <td>7.500000</td>\n",
       "      <td>4298.000000</td>\n",
       "      <td>4735.500000</td>\n",
       "      <td>0.564500</td>\n",
       "      <td>568.500000</td>\n",
       "    </tr>\n",
       "    <tr>\n",
       "      <th>75%</th>\n",
       "      <td>8.125000</td>\n",
       "      <td>4578.750000</td>\n",
       "      <td>7156.000000</td>\n",
       "      <td>0.595250</td>\n",
       "      <td>632.750000</td>\n",
       "    </tr>\n",
       "    <tr>\n",
       "      <th>max</th>\n",
       "      <td>10.000000</td>\n",
       "      <td>5342.000000</td>\n",
       "      <td>17782.000000</td>\n",
       "      <td>0.724000</td>\n",
       "      <td>968.000000</td>\n",
       "    </tr>\n",
       "  </tbody>\n",
       "</table>\n",
       "</div>"
      ],
      "text/plain": [
       "       Petrol_tax  Average_income  Paved_Highways  \\\n",
       "count   48.000000       48.000000       48.000000   \n",
       "mean     7.668333     4241.833333     5565.416667   \n",
       "std      0.950770      573.623768     3491.507166   \n",
       "min      5.000000     3063.000000      431.000000   \n",
       "25%      7.000000     3739.000000     3110.250000   \n",
       "50%      7.500000     4298.000000     4735.500000   \n",
       "75%      8.125000     4578.750000     7156.000000   \n",
       "max     10.000000     5342.000000    17782.000000   \n",
       "\n",
       "       Population_Driver_licence(%)  Petrol_Consumption  \n",
       "count                     48.000000           48.000000  \n",
       "mean                       0.570333          576.770833  \n",
       "std                        0.055470          111.885816  \n",
       "min                        0.451000          344.000000  \n",
       "25%                        0.529750          509.500000  \n",
       "50%                        0.564500          568.500000  \n",
       "75%                        0.595250          632.750000  \n",
       "max                        0.724000          968.000000  "
      ]
     },
     "execution_count": 44,
     "metadata": {},
     "output_type": "execute_result"
    }
   ],
   "source": [
    "df.describe() # -> statistical description and info about the dataset"
   ]
  },
  {
   "cell_type": "code",
   "execution_count": null,
   "id": "5dcf1c84",
   "metadata": {},
   "outputs": [
    {
     "data": {
      "text/html": [
       "<div>\n",
       "<style scoped>\n",
       "    .dataframe tbody tr th:only-of-type {\n",
       "        vertical-align: middle;\n",
       "    }\n",
       "\n",
       "    .dataframe tbody tr th {\n",
       "        vertical-align: top;\n",
       "    }\n",
       "\n",
       "    .dataframe thead th {\n",
       "        text-align: right;\n",
       "    }\n",
       "</style>\n",
       "<table border=\"1\" class=\"dataframe\">\n",
       "  <thead>\n",
       "    <tr style=\"text-align: right;\">\n",
       "      <th></th>\n",
       "      <th>Petrol_tax</th>\n",
       "      <th>Petrol_Consumption</th>\n",
       "      <th>Average_income</th>\n",
       "    </tr>\n",
       "  </thead>\n",
       "  <tbody>\n",
       "    <tr>\n",
       "      <th>7</th>\n",
       "      <td>8.0</td>\n",
       "      <td>467</td>\n",
       "      <td>5126</td>\n",
       "    </tr>\n",
       "    <tr>\n",
       "      <th>8</th>\n",
       "      <td>8.0</td>\n",
       "      <td>464</td>\n",
       "      <td>4447</td>\n",
       "    </tr>\n",
       "    <tr>\n",
       "      <th>9</th>\n",
       "      <td>7.0</td>\n",
       "      <td>498</td>\n",
       "      <td>4512</td>\n",
       "    </tr>\n",
       "    <tr>\n",
       "      <th>10</th>\n",
       "      <td>8.0</td>\n",
       "      <td>580</td>\n",
       "      <td>4391</td>\n",
       "    </tr>\n",
       "    <tr>\n",
       "      <th>11</th>\n",
       "      <td>7.5</td>\n",
       "      <td>471</td>\n",
       "      <td>5126</td>\n",
       "    </tr>\n",
       "    <tr>\n",
       "      <th>12</th>\n",
       "      <td>7.0</td>\n",
       "      <td>525</td>\n",
       "      <td>4817</td>\n",
       "    </tr>\n",
       "  </tbody>\n",
       "</table>\n",
       "</div>"
      ],
      "text/plain": [
       "    Petrol_tax  Petrol_Consumption  Average_income\n",
       "7          8.0                 467            5126\n",
       "8          8.0                 464            4447\n",
       "9          7.0                 498            4512\n",
       "10         8.0                 580            4391\n",
       "11         7.5                 471            5126\n",
       "12         7.0                 525            4817"
      ]
     },
     "execution_count": 55,
     "metadata": {},
     "output_type": "execute_result"
    }
   ],
   "source": [
    "df.loc[7:12, [\"Petrol_tax\", \"Petrol_Consumption\", \"Average_income\"]] # gets the desried columns, with rows as a slice - start & stop both included"
   ]
  },
  {
   "cell_type": "code",
   "execution_count": null,
   "id": "47003765",
   "metadata": {},
   "outputs": [
    {
     "data": {
      "text/html": [
       "<div>\n",
       "<style scoped>\n",
       "    .dataframe tbody tr th:only-of-type {\n",
       "        vertical-align: middle;\n",
       "    }\n",
       "\n",
       "    .dataframe tbody tr th {\n",
       "        vertical-align: top;\n",
       "    }\n",
       "\n",
       "    .dataframe thead th {\n",
       "        text-align: right;\n",
       "    }\n",
       "</style>\n",
       "<table border=\"1\" class=\"dataframe\">\n",
       "  <thead>\n",
       "    <tr style=\"text-align: right;\">\n",
       "      <th></th>\n",
       "      <th>Paved_Highways</th>\n",
       "      <th>Population_Driver_licence(%)</th>\n",
       "    </tr>\n",
       "  </thead>\n",
       "  <tbody>\n",
       "    <tr>\n",
       "      <th>7</th>\n",
       "      <td>2138</td>\n",
       "      <td>0.553</td>\n",
       "    </tr>\n",
       "    <tr>\n",
       "      <th>8</th>\n",
       "      <td>8577</td>\n",
       "      <td>0.529</td>\n",
       "    </tr>\n",
       "    <tr>\n",
       "      <th>9</th>\n",
       "      <td>8507</td>\n",
       "      <td>0.552</td>\n",
       "    </tr>\n",
       "    <tr>\n",
       "      <th>10</th>\n",
       "      <td>5939</td>\n",
       "      <td>0.530</td>\n",
       "    </tr>\n",
       "    <tr>\n",
       "      <th>11</th>\n",
       "      <td>14186</td>\n",
       "      <td>0.525</td>\n",
       "    </tr>\n",
       "  </tbody>\n",
       "</table>\n",
       "</div>"
      ],
      "text/plain": [
       "    Paved_Highways  Population_Driver_licence(%)\n",
       "7             2138                         0.553\n",
       "8             8577                         0.529\n",
       "9             8507                         0.552\n",
       "10            5939                         0.530\n",
       "11           14186                         0.525"
      ]
     },
     "execution_count": 60,
     "metadata": {},
     "output_type": "execute_result"
    }
   ],
   "source": [
    "df.iloc[7:12, 2:4] # gets the slice of the columns, with rows as a slice - stop not included"
   ]
  },
  {
   "cell_type": "code",
   "execution_count": 52,
   "id": "20fe4559",
   "metadata": {},
   "outputs": [
    {
     "data": {
      "text/html": [
       "<div>\n",
       "<style scoped>\n",
       "    .dataframe tbody tr th:only-of-type {\n",
       "        vertical-align: middle;\n",
       "    }\n",
       "\n",
       "    .dataframe tbody tr th {\n",
       "        vertical-align: top;\n",
       "    }\n",
       "\n",
       "    .dataframe thead th {\n",
       "        text-align: right;\n",
       "    }\n",
       "</style>\n",
       "<table border=\"1\" class=\"dataframe\">\n",
       "  <thead>\n",
       "    <tr style=\"text-align: right;\">\n",
       "      <th></th>\n",
       "      <th>Petrol_tax</th>\n",
       "      <th>Petrol_Consumption</th>\n",
       "      <th>Average_income</th>\n",
       "    </tr>\n",
       "  </thead>\n",
       "  <tbody>\n",
       "    <tr>\n",
       "      <th>7</th>\n",
       "      <td>8.0</td>\n",
       "      <td>467</td>\n",
       "      <td>5126</td>\n",
       "    </tr>\n",
       "    <tr>\n",
       "      <th>8</th>\n",
       "      <td>8.0</td>\n",
       "      <td>464</td>\n",
       "      <td>4447</td>\n",
       "    </tr>\n",
       "    <tr>\n",
       "      <th>9</th>\n",
       "      <td>7.0</td>\n",
       "      <td>498</td>\n",
       "      <td>4512</td>\n",
       "    </tr>\n",
       "    <tr>\n",
       "      <th>10</th>\n",
       "      <td>8.0</td>\n",
       "      <td>580</td>\n",
       "      <td>4391</td>\n",
       "    </tr>\n",
       "    <tr>\n",
       "      <th>11</th>\n",
       "      <td>7.5</td>\n",
       "      <td>471</td>\n",
       "      <td>5126</td>\n",
       "    </tr>\n",
       "    <tr>\n",
       "      <th>12</th>\n",
       "      <td>7.0</td>\n",
       "      <td>525</td>\n",
       "      <td>4817</td>\n",
       "    </tr>\n",
       "    <tr>\n",
       "      <th>13</th>\n",
       "      <td>7.0</td>\n",
       "      <td>508</td>\n",
       "      <td>4207</td>\n",
       "    </tr>\n",
       "    <tr>\n",
       "      <th>14</th>\n",
       "      <td>7.0</td>\n",
       "      <td>566</td>\n",
       "      <td>4332</td>\n",
       "    </tr>\n",
       "  </tbody>\n",
       "</table>\n",
       "</div>"
      ],
      "text/plain": [
       "    Petrol_tax  Petrol_Consumption  Average_income\n",
       "7          8.0                 467            5126\n",
       "8          8.0                 464            4447\n",
       "9          7.0                 498            4512\n",
       "10         8.0                 580            4391\n",
       "11         7.5                 471            5126\n",
       "12         7.0                 525            4817\n",
       "13         7.0                 508            4207\n",
       "14         7.0                 566            4332"
      ]
     },
     "execution_count": 52,
     "metadata": {},
     "output_type": "execute_result"
    }
   ],
   "source": [
    "df[[\"Petrol_tax\", \"Petrol_Consumption\", \"Average_income\"]][7:15] # a simpler but less effective way to get a slice"
   ]
  },
  {
   "cell_type": "code",
   "execution_count": null,
   "id": "57d3c11b",
   "metadata": {},
   "outputs": [],
   "source": []
  },
  {
   "cell_type": "code",
   "execution_count": null,
   "id": "e6893a41",
   "metadata": {},
   "outputs": [],
   "source": []
  },
  {
   "cell_type": "code",
   "execution_count": null,
   "id": "634ab275",
   "metadata": {},
   "outputs": [],
   "source": []
  },
  {
   "cell_type": "code",
   "execution_count": null,
   "id": "894af50f",
   "metadata": {},
   "outputs": [],
   "source": []
  }
 ],
 "metadata": {
  "kernelspec": {
   "display_name": "base",
   "language": "python",
   "name": "python3"
  },
  "language_info": {
   "codemirror_mode": {
    "name": "ipython",
    "version": 3
   },
   "file_extension": ".py",
   "mimetype": "text/x-python",
   "name": "python",
   "nbconvert_exporter": "python",
   "pygments_lexer": "ipython3",
   "version": "3.12.7"
  }
 },
 "nbformat": 4,
 "nbformat_minor": 5
}
