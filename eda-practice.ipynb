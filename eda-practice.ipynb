{
 "cells": [
  {
   "cell_type": "code",
   "execution_count": 3,
   "id": "6dae9133-4b8a-47f2-8b96-2e41d5788ea9",
   "metadata": {},
   "outputs": [],
   "source": [
    "import numpy as np\n",
    "import pandas as pd\n",
    "import matplotlib.pyplot as plt\n",
    "import seaborn as sns\n",
    "import numpy.random as rd"
   ]
  },
  {
   "cell_type": "markdown",
   "id": "a755ecef-0a84-47a6-8e6c-8e97fbe8499a",
   "metadata": {},
   "source": [
    "----------------"
   ]
  },
  {
   "cell_type": "code",
   "execution_count": 4,
   "id": "6d3fa002",
   "metadata": {},
   "outputs": [
    {
     "data": {
      "text/plain": [
       "array([[1, 2, 3],\n",
       "       [4, 5, 6],\n",
       "       [7, 8, 9]])"
      ]
     },
     "execution_count": 4,
     "metadata": {},
     "output_type": "execute_result"
    }
   ],
   "source": [
    "arr = np.array([[1, 2, 3], [4, 5, 6], [7, 8, 9]])\n",
    "arr"
   ]
  },
  {
   "cell_type": "code",
   "execution_count": 7,
   "id": "471516a5",
   "metadata": {},
   "outputs": [
    {
     "data": {
      "text/plain": [
       "(3, 3)"
      ]
     },
     "execution_count": 7,
     "metadata": {},
     "output_type": "execute_result"
    }
   ],
   "source": [
    "np.shape(arr)"
   ]
  },
  {
   "cell_type": "code",
   "execution_count": 8,
   "id": "81d9a2e2",
   "metadata": {},
   "outputs": [
    {
     "name": "stdout",
     "output_type": "stream",
     "text": [
      "[[[ 1  2]\n",
      "  [ 3  4]\n",
      "  [ 5  6]]\n",
      "\n",
      " [[ 7  8]\n",
      "  [ 9 10]\n",
      "  [11 12]]\n",
      "\n",
      " [[13 14]\n",
      "  [15 16]\n",
      "  [17 18]]\n",
      "\n",
      " [[19 20]\n",
      "  [21 22]\n",
      "  [23 24]]]\n"
     ]
    }
   ],
   "source": [
    "arr = np.arange(1,25).reshape(4, 3, 2)\n",
    "print(arr)"
   ]
  },
  {
   "cell_type": "code",
   "execution_count": 13,
   "id": "38e8df20",
   "metadata": {},
   "outputs": [
    {
     "data": {
      "text/plain": [
       "array([['', '', '', ''],\n",
       "       ['', '', '', ''],\n",
       "       ['', '', '', '']], dtype='<U1')"
      ]
     },
     "execution_count": 13,
     "metadata": {},
     "output_type": "execute_result"
    }
   ],
   "source": [
    "arr = np.zeros((3, 4), dtype=str)\n",
    "arr"
   ]
  },
  {
   "cell_type": "code",
   "execution_count": 14,
   "id": "60f0a25e",
   "metadata": {},
   "outputs": [
    {
     "name": "stdout",
     "output_type": "stream",
     "text": [
      "[[[1. 1. 1. 1.]\n",
      "  [1. 1. 1. 1.]\n",
      "  [1. 1. 1. 1.]]\n",
      "\n",
      " [[1. 1. 1. 1.]\n",
      "  [1. 1. 1. 1.]\n",
      "  [1. 1. 1. 1.]]\n",
      "\n",
      " [[1. 1. 1. 1.]\n",
      "  [1. 1. 1. 1.]\n",
      "  [1. 1. 1. 1.]]]\n"
     ]
    }
   ],
   "source": [
    "arr = np.ones((3,3,4))\n",
    "print(arr)"
   ]
  },
  {
   "cell_type": "code",
   "execution_count": 15,
   "id": "798967f2",
   "metadata": {},
   "outputs": [
    {
     "name": "stdout",
     "output_type": "stream",
     "text": [
      "[[[ 93  96  31 ...   2  85  18]\n",
      "  [ 94  23  55 ...  21  65  46]\n",
      "  [ 89  60  30 ...  75  63  87]\n",
      "  ...\n",
      "  [ 79   4  75 ...  78  82  33]\n",
      "  [100  34  38 ...  27  26  28]\n",
      "  [  5   3  18 ...  76  71  65]]\n",
      "\n",
      " [[ 10  73  34 ...  64  49  91]\n",
      "  [ 95  28  86 ...   8  95  46]\n",
      "  [100  19  30 ...  33  36  61]\n",
      "  ...\n",
      "  [ 20  39  47 ...   1  73  42]\n",
      "  [ 45  49  38 ...  85  17  89]\n",
      "  [ 17   6  88 ...  95  20  68]]\n",
      "\n",
      " [[ 14  87  98 ...  99  22   5]\n",
      "  [ 87  84  75 ...  54  85  98]\n",
      "  [ 61   7  90 ...  68  38  82]\n",
      "  ...\n",
      "  [ 14  35  19 ...   7  20  28]\n",
      "  [ 10  82  66 ...  33  41  42]\n",
      "  [ 67  41  67 ...  15   9  39]]\n",
      "\n",
      " [[ 55  28  17 ...  25  55  71]\n",
      "  [ 52  78  55 ...  93  98  89]\n",
      "  [  6  85   5 ...   1  63  91]\n",
      "  ...\n",
      "  [ 72  64  68 ...  92  83  38]\n",
      "  [ 18  80  13 ...  53  81  76]\n",
      "  [ 47   2  74 ...  46  51  27]]\n",
      "\n",
      " [[ 19  76  96 ...  16  14  78]\n",
      "  [ 11  82  82 ...  92  62  39]\n",
      "  [ 56  12   2 ...  99  47  21]\n",
      "  ...\n",
      "  [ 63  13  16 ... 100  98  68]\n",
      "  [ 83  61  37 ...   5  30  27]\n",
      "  [ 74  10  51 ...  29  49  96]]]\n"
     ]
    }
   ],
   "source": [
    "arr = rd.randint(1, 101, size = [5, 10, 25])\n",
    "print(arr)"
   ]
  },
  {
   "cell_type": "code",
   "execution_count": 16,
   "id": "6bf24167",
   "metadata": {},
   "outputs": [
    {
     "name": "stdout",
     "output_type": "stream",
     "text": [
      "[ 85  97  15  62  39  88  47 100  94   6  78  22  20  21  16  44  65  96\n",
      "   2  34  20  67  19  85]\n"
     ]
    }
   ],
   "source": [
    "arr2 = rd.randint(1, 101, size = [24])\n",
    "print(arr2)"
   ]
  },
  {
   "cell_type": "code",
   "execution_count": 17,
   "id": "8b998517",
   "metadata": {},
   "outputs": [
    {
     "data": {
      "text/plain": [
       "array([[[[4, 3, 2, 5],\n",
       "         [2, 1, 5, 3],\n",
       "         [3, 5, 3, 4],\n",
       "         [1, 5, 1, 5]],\n",
       "\n",
       "        [[3, 2, 1, 5],\n",
       "         [4, 2, 4, 5],\n",
       "         [2, 4, 3, 3],\n",
       "         [4, 3, 4, 3]],\n",
       "\n",
       "        [[3, 3, 2, 4],\n",
       "         [2, 5, 3, 2],\n",
       "         [5, 5, 3, 3],\n",
       "         [2, 4, 1, 5]]],\n",
       "\n",
       "\n",
       "       [[[1, 3, 5, 1],\n",
       "         [3, 1, 3, 1],\n",
       "         [5, 2, 4, 1],\n",
       "         [3, 1, 3, 2]],\n",
       "\n",
       "        [[3, 3, 4, 3],\n",
       "         [5, 3, 4, 4],\n",
       "         [3, 3, 4, 3],\n",
       "         [2, 4, 1, 1]],\n",
       "\n",
       "        [[2, 2, 3, 3],\n",
       "         [1, 5, 2, 5],\n",
       "         [1, 4, 1, 3],\n",
       "         [2, 1, 1, 5]]],\n",
       "\n",
       "\n",
       "       [[[4, 1, 3, 5],\n",
       "         [5, 1, 1, 1],\n",
       "         [3, 4, 3, 4],\n",
       "         [1, 3, 3, 1]],\n",
       "\n",
       "        [[3, 4, 1, 3],\n",
       "         [2, 2, 5, 3],\n",
       "         [4, 3, 2, 4],\n",
       "         [4, 2, 2, 5]],\n",
       "\n",
       "        [[4, 5, 5, 2],\n",
       "         [5, 3, 3, 5],\n",
       "         [4, 3, 2, 3],\n",
       "         [4, 3, 2, 5]]]])"
      ]
     },
     "execution_count": 17,
     "metadata": {},
     "output_type": "execute_result"
    }
   ],
   "source": [
    "rd.choice([1, 2, 3, 4, 5], size = [3, 3, 4, 4] )"
   ]
  },
  {
   "cell_type": "code",
   "execution_count": 18,
   "id": "3efa1b6b",
   "metadata": {},
   "outputs": [
    {
     "data": {
      "text/plain": [
       "array([[ 15,  62,  20, 100],\n",
       "       [ 21,  85,  16,  39],\n",
       "       [ 20,  34,  96,  78]])"
      ]
     },
     "execution_count": 18,
     "metadata": {},
     "output_type": "execute_result"
    }
   ],
   "source": [
    "rd.choice(arr2, size = [3, 4], replace = False)"
   ]
  },
  {
   "cell_type": "code",
   "execution_count": 19,
   "id": "5648f0d8",
   "metadata": {},
   "outputs": [
    {
     "data": {
      "text/plain": [
       "array([[0.79947696, 0.70887155, 0.69478949, 0.57152222, 0.85057083],\n",
       "       [0.61272501, 0.30366138, 0.4440806 , 0.0375269 , 0.45019837],\n",
       "       [0.47952587, 0.79503645, 0.21154503, 0.1561328 , 0.51044757]])"
      ]
     },
     "execution_count": 19,
     "metadata": {},
     "output_type": "execute_result"
    }
   ],
   "source": [
    "rd.rand(3,5)"
   ]
  },
  {
   "cell_type": "code",
   "execution_count": 20,
   "id": "6adcaea6",
   "metadata": {},
   "outputs": [
    {
     "data": {
      "text/plain": [
       "array([[ 30,  63,   5,  95,  88],\n",
       "       [ 54,  13,  79,  24,  28],\n",
       "       [ 43, 100,  41,  42,  58]])"
      ]
     },
     "execution_count": 20,
     "metadata": {},
     "output_type": "execute_result"
    }
   ],
   "source": [
    "rd.randint(1, 101, size = [3, 5])"
   ]
  },
  {
   "cell_type": "code",
   "execution_count": 21,
   "id": "283c93d5",
   "metadata": {},
   "outputs": [
    {
     "data": {
      "text/plain": [
       "array([[69.89455771, 12.78084274, 14.40895519, 76.10655456, 74.1200824 ],\n",
       "       [ 1.57645361, 22.09812658, 32.73460663, 68.53171827, 97.1459118 ],\n",
       "       [17.68643255, 20.31660451, 89.84134549, 94.69951234, 22.78264888]])"
      ]
     },
     "execution_count": 21,
     "metadata": {},
     "output_type": "execute_result"
    }
   ],
   "source": [
    "rd.uniform(1, 101, size = [3, 5])"
   ]
  },
  {
   "cell_type": "code",
   "execution_count": 22,
   "id": "12c7243d",
   "metadata": {},
   "outputs": [
    {
     "name": "stdout",
     "output_type": "stream",
     "text": [
      "[[[[[[[[[[[[[[[ 5  5  4  5  2 47  5  2]]]]]]]]]]]]]]]\n"
     ]
    }
   ],
   "source": [
    "x = np.array([5,5,4,5,2,47,5,2], ndmin=15)\n",
    "print(x)"
   ]
  },
  {
   "cell_type": "code",
   "execution_count": 23,
   "id": "804f964b",
   "metadata": {},
   "outputs": [
    {
     "data": {
      "text/plain": [
       "4"
      ]
     },
     "execution_count": 23,
     "metadata": {},
     "output_type": "execute_result"
    }
   ],
   "source": [
    "np.argmin(x)"
   ]
  },
  {
   "cell_type": "code",
   "execution_count": 24,
   "id": "dccf13c5",
   "metadata": {},
   "outputs": [
    {
     "data": {
      "text/plain": [
       "5"
      ]
     },
     "execution_count": 24,
     "metadata": {},
     "output_type": "execute_result"
    }
   ],
   "source": [
    "np.argmax(x)"
   ]
  },
  {
   "cell_type": "code",
   "execution_count": null,
   "id": "26dcb428",
   "metadata": {},
   "outputs": [],
   "source": []
  },
  {
   "cell_type": "code",
   "execution_count": null,
   "id": "4e08ea78-360e-4acb-a794-ab696c208365",
   "metadata": {},
   "outputs": [],
   "source": []
  },
  {
   "cell_type": "code",
   "execution_count": null,
   "id": "098cde45-d174-4309-9023-0cc6300b053c",
   "metadata": {},
   "outputs": [],
   "source": []
  },
  {
   "cell_type": "code",
   "execution_count": null,
   "id": "e5b01c27-95e6-4211-8af0-eee7128e4fc0",
   "metadata": {},
   "outputs": [],
   "source": []
  },
  {
   "cell_type": "code",
   "execution_count": null,
   "id": "66d2d5d1-21f6-44c7-b5e6-9560f1dfe66f",
   "metadata": {},
   "outputs": [],
   "source": []
  },
  {
   "cell_type": "code",
   "execution_count": null,
   "id": "769da054-195c-4735-83cc-4b25ec47e384",
   "metadata": {},
   "outputs": [],
   "source": []
  },
  {
   "cell_type": "code",
   "execution_count": null,
   "id": "9a23b126-75de-4d6a-a3ab-c58753dae96d",
   "metadata": {},
   "outputs": [],
   "source": []
  },
  {
   "cell_type": "code",
   "execution_count": null,
   "id": "8e3dd250-73a0-4bae-a702-802d52b228be",
   "metadata": {},
   "outputs": [],
   "source": []
  },
  {
   "cell_type": "code",
   "execution_count": null,
   "id": "cbe105f6-e04f-47e4-8c5c-202d431aae6f",
   "metadata": {},
   "outputs": [],
   "source": []
  },
  {
   "cell_type": "code",
   "execution_count": null,
   "id": "4a65ed58-7009-4c05-8d01-94e3c2daa7cc",
   "metadata": {},
   "outputs": [],
   "source": []
  },
  {
   "cell_type": "code",
   "execution_count": null,
   "id": "91ce8801-3cc5-4f43-a9ba-bab6b816b8b9",
   "metadata": {},
   "outputs": [],
   "source": []
  },
  {
   "cell_type": "code",
   "execution_count": null,
   "id": "b137cfd8-8675-41e4-b460-19234c8d22bc",
   "metadata": {},
   "outputs": [],
   "source": []
  },
  {
   "cell_type": "code",
   "execution_count": null,
   "id": "5ef5166d-648b-4801-a910-3538d92abdf8",
   "metadata": {},
   "outputs": [],
   "source": []
  },
  {
   "cell_type": "code",
   "execution_count": null,
   "id": "32dc950b-4e82-4ff6-9d77-d229c16f2750",
   "metadata": {},
   "outputs": [],
   "source": []
  }
 ],
 "metadata": {
  "kernelspec": {
   "display_name": "base",
   "language": "python",
   "name": "python3"
  },
  "language_info": {
   "codemirror_mode": {
    "name": "ipython",
    "version": 3
   },
   "file_extension": ".py",
   "mimetype": "text/x-python",
   "name": "python",
   "nbconvert_exporter": "python",
   "pygments_lexer": "ipython3",
   "version": "3.12.7"
  }
 },
 "nbformat": 4,
 "nbformat_minor": 5
}
