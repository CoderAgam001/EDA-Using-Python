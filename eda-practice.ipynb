{
 "cells": [
  {
   "cell_type": "code",
   "execution_count": 1,
   "id": "6dae9133-4b8a-47f2-8b96-2e41d5788ea9",
   "metadata": {},
   "outputs": [],
   "source": [
    "import numpy as np\n",
    "import pandas as pd\n",
    "import matplotlib.pyplot as plt\n",
    "import seaborn as sns\n",
    "import numpy.random as rd"
   ]
  },
  {
   "cell_type": "markdown",
   "id": "a755ecef-0a84-47a6-8e6c-8e97fbe8499a",
   "metadata": {},
   "source": [
    "----------------"
   ]
  },
  {
   "cell_type": "code",
   "execution_count": 2,
   "id": "6d3fa002",
   "metadata": {},
   "outputs": [
    {
     "data": {
      "text/plain": [
       "array([[1, 2, 3],\n",
       "       [4, 5, 6],\n",
       "       [7, 8, 9]])"
      ]
     },
     "execution_count": 2,
     "metadata": {},
     "output_type": "execute_result"
    }
   ],
   "source": [
    "arr = np.array([[1, 2, 3], [4, 5, 6], [7, 8, 9]])\n",
    "arr"
   ]
  },
  {
   "cell_type": "code",
   "execution_count": 3,
   "id": "471516a5",
   "metadata": {},
   "outputs": [
    {
     "data": {
      "text/plain": [
       "(3, 3)"
      ]
     },
     "execution_count": 3,
     "metadata": {},
     "output_type": "execute_result"
    }
   ],
   "source": [
    "np.shape(arr)"
   ]
  },
  {
   "cell_type": "code",
   "execution_count": 4,
   "id": "81d9a2e2",
   "metadata": {},
   "outputs": [
    {
     "name": "stdout",
     "output_type": "stream",
     "text": [
      "[[[ 1  2]\n",
      "  [ 3  4]\n",
      "  [ 5  6]]\n",
      "\n",
      " [[ 7  8]\n",
      "  [ 9 10]\n",
      "  [11 12]]\n",
      "\n",
      " [[13 14]\n",
      "  [15 16]\n",
      "  [17 18]]\n",
      "\n",
      " [[19 20]\n",
      "  [21 22]\n",
      "  [23 24]]]\n"
     ]
    }
   ],
   "source": [
    "arr = np.arange(1,25).reshape(4, 3, 2)\n",
    "print(arr)"
   ]
  },
  {
   "cell_type": "code",
   "execution_count": 5,
   "id": "38e8df20",
   "metadata": {},
   "outputs": [
    {
     "data": {
      "text/plain": [
       "array([['', '', '', ''],\n",
       "       ['', '', '', ''],\n",
       "       ['', '', '', '']], dtype='<U1')"
      ]
     },
     "execution_count": 5,
     "metadata": {},
     "output_type": "execute_result"
    }
   ],
   "source": [
    "arr = np.zeros((3, 4), dtype=str)\n",
    "arr"
   ]
  },
  {
   "cell_type": "code",
   "execution_count": 6,
   "id": "60f0a25e",
   "metadata": {},
   "outputs": [
    {
     "name": "stdout",
     "output_type": "stream",
     "text": [
      "[[[1. 1. 1. 1.]\n",
      "  [1. 1. 1. 1.]\n",
      "  [1. 1. 1. 1.]]\n",
      "\n",
      " [[1. 1. 1. 1.]\n",
      "  [1. 1. 1. 1.]\n",
      "  [1. 1. 1. 1.]]\n",
      "\n",
      " [[1. 1. 1. 1.]\n",
      "  [1. 1. 1. 1.]\n",
      "  [1. 1. 1. 1.]]]\n"
     ]
    }
   ],
   "source": [
    "arr = np.ones((3,3,4))\n",
    "print(arr)"
   ]
  },
  {
   "cell_type": "code",
   "execution_count": 7,
   "id": "798967f2",
   "metadata": {},
   "outputs": [
    {
     "name": "stdout",
     "output_type": "stream",
     "text": [
      "[[[ 33  48  56  23  87  89  56  55  11  18  66  29  92  38  36]\n",
      "  [  6  45  79  71  86  41  61   1  96  88  68  84  17  80 100]\n",
      "  [ 99  46  89  50  98  11  45  31  75  64  14  87  20  92  46]\n",
      "  [ 82  20  87   8  39  59  96  87  45  12  25  80  99  80  14]\n",
      "  [ 96  12   3  34  54  46  24  10   2  23  92  23  24  64  86]\n",
      "  [ 51  52  37  83  58  46  90   5  53  46  50  36  91  80  10]\n",
      "  [ 65  27  70  14  98   3  72  16  48  10  36  70  63  95  50]\n",
      "  [ 26  15  24  41  70  84  34   4  52  34  37  88  16  11  25]\n",
      "  [ 23  26  30  53  75  32  10  60  34  65   7  29  21  31  99]\n",
      "  [ 81  33   4  88  99  66  43  92  52  63   9  24  77  68  55]]\n",
      "\n",
      " [[ 32  62  34  41  71  56  97  84  11  43  57  84   3  60  20]\n",
      "  [ 73   5  23   1  69  46  39  67  33  37  91  19  90  58  15]\n",
      "  [ 31  31  44  10  15  15  34  69  66  32  38  34  29  60  49]\n",
      "  [ 62  19  21  99  90   5  44  85  74  77  13  82  32  65  70]\n",
      "  [ 62  75  44  42  61  72  87  29  56  59 100  40  13  98  31]\n",
      "  [ 99  25  87  36  69  99  47  28  73  35  23  23  48  96  48]\n",
      "  [ 55  69  89  75  11  72  99  88  15  51  24  67  82  32  76]\n",
      "  [ 90  81  34  69  92  92   3  47  82   5  61  49  12   4   7]\n",
      "  [ 11  60  78  89  38  65  89  94  16  63  19  92  25  93  96]\n",
      "  [ 41  92  70  87  50  74  66  38  13  20  28  46  85  43  51]]]\n"
     ]
    }
   ],
   "source": [
    "arr = rd.randint(1, 101, size = [2, 10, 15])\n",
    "print(arr)"
   ]
  },
  {
   "cell_type": "code",
   "execution_count": 8,
   "id": "6bf24167",
   "metadata": {},
   "outputs": [
    {
     "name": "stdout",
     "output_type": "stream",
     "text": [
      "[[51 50 89  1 77 45 15]\n",
      " [78  1 22 64 88 48 21]\n",
      " [16  7 27 93 41 77 46]\n",
      " [33 21 13 81 82 92 43]\n",
      " [ 5 13 94 97 57 42 60]]\n"
     ]
    }
   ],
   "source": [
    "arr1 = rd.randint(1, 101, size = [5,7])\n",
    "print(arr1)"
   ]
  },
  {
   "cell_type": "code",
   "execution_count": 9,
   "id": "8b998517",
   "metadata": {},
   "outputs": [
    {
     "name": "stdout",
     "output_type": "stream",
     "text": [
      "[[[[ 98  69   9  56]\n",
      "   [  2  54  24  15]\n",
      "   [ 92  79  41  38]\n",
      "   [ 77  51 100   3]]\n",
      "\n",
      "  [[ 67  75  65  53]\n",
      "   [ 76  50  32  83]\n",
      "   [ 22  79  84  45]\n",
      "   [ 51  40  21  40]]\n",
      "\n",
      "  [[ 74  64   3  46]\n",
      "   [ 52  79  24  42]\n",
      "   [ 88  91  24  82]\n",
      "   [ 64  58  39  45]]]\n",
      "\n",
      "\n",
      " [[[ 61  42  35  61]\n",
      "   [ 69  48  64  41]\n",
      "   [ 67  70  75  80]\n",
      "   [ 22  89  87  95]]\n",
      "\n",
      "  [[ 91   8  35   7]\n",
      "   [ 80  95  80  19]\n",
      "   [ 76  55  40  94]\n",
      "   [ 52  22  39  14]]\n",
      "\n",
      "  [[ 86  65  42  25]\n",
      "   [ 45  41  34  64]\n",
      "   [ 74   4  28  13]\n",
      "   [ 80  22  32  11]]]\n",
      "\n",
      "\n",
      " [[[ 13  51  10  46]\n",
      "   [ 91  19  69  93]\n",
      "   [ 60  10  70  67]\n",
      "   [ 44  69  66  11]]\n",
      "\n",
      "  [[ 23  28   3  91]\n",
      "   [ 12  38  78  35]\n",
      "   [ 98  76  45   4]\n",
      "   [ 60  55  27   5]]\n",
      "\n",
      "  [[ 62  53  99  80]\n",
      "   [ 82  78  96  62]\n",
      "   [ 25  67  37  68]\n",
      "   [ 44  90  16  41]]]]\n"
     ]
    }
   ],
   "source": [
    "arr1 = rd.choice(np.arange(101), size = [3, 3, 4, 4])\n",
    "print(arr1)"
   ]
  },
  {
   "cell_type": "code",
   "execution_count": 10,
   "id": "3efa1b6b",
   "metadata": {},
   "outputs": [
    {
     "data": {
      "text/plain": [
       "array([[62, 10, 24, 58],\n",
       "       [28, 66, 80, 16],\n",
       "       [25, 67, 65, 92]])"
      ]
     },
     "execution_count": 10,
     "metadata": {},
     "output_type": "execute_result"
    }
   ],
   "source": [
    "rd.choice(arr1.flatten(), size = [3, 4])"
   ]
  },
  {
   "cell_type": "code",
   "execution_count": 11,
   "id": "5648f0d8",
   "metadata": {},
   "outputs": [
    {
     "data": {
      "text/plain": [
       "array([[0.87766862, 0.61869859, 0.03866195, 0.93197896, 0.12815492],\n",
       "       [0.80849356, 0.25342078, 0.04449664, 0.97040369, 0.23332433],\n",
       "       [0.2829164 , 0.29620664, 0.04665303, 0.68062776, 0.60327348]])"
      ]
     },
     "execution_count": 11,
     "metadata": {},
     "output_type": "execute_result"
    }
   ],
   "source": [
    "rd.rand(3,5)"
   ]
  },
  {
   "cell_type": "code",
   "execution_count": 12,
   "id": "6adcaea6",
   "metadata": {},
   "outputs": [
    {
     "data": {
      "text/plain": [
       "array([[ 25,  80,  34,  91,  11],\n",
       "       [ 92,  46,  20,  69,  58],\n",
       "       [ 66,  58, 100,  98,  72]])"
      ]
     },
     "execution_count": 12,
     "metadata": {},
     "output_type": "execute_result"
    }
   ],
   "source": [
    "rd.randint(1, 101, size = [3, 5])"
   ]
  },
  {
   "cell_type": "code",
   "execution_count": 13,
   "id": "283c93d5",
   "metadata": {},
   "outputs": [
    {
     "data": {
      "text/plain": [
       "array([[16.3683145 , 26.18873773, 75.20419211, 62.99365001,  8.95383064],\n",
       "       [18.94914055, 98.81573355, 29.73282494, 75.78135722, 24.07408025],\n",
       "       [20.80194804, 43.24505549, 41.46217231, 23.05965733, 83.22813518]])"
      ]
     },
     "execution_count": 13,
     "metadata": {},
     "output_type": "execute_result"
    }
   ],
   "source": [
    "rd.uniform(1, 101, size = [3, 5])"
   ]
  },
  {
   "cell_type": "code",
   "execution_count": 14,
   "id": "12c7243d",
   "metadata": {},
   "outputs": [
    {
     "name": "stdout",
     "output_type": "stream",
     "text": [
      "[[[54. 85. 46. 95. 21. 47. 35. 29.]]]\n"
     ]
    }
   ],
   "source": [
    "x = np.array([54,85,46,95,21,47,35,29], ndmin=3, dtype=float)\n",
    "print(x)"
   ]
  },
  {
   "cell_type": "code",
   "execution_count": 15,
   "id": "ddb695f8",
   "metadata": {},
   "outputs": [
    {
     "data": {
      "text/plain": [
       "95.0"
      ]
     },
     "execution_count": 15,
     "metadata": {},
     "output_type": "execute_result"
    }
   ],
   "source": [
    "np.max(x)"
   ]
  },
  {
   "cell_type": "code",
   "execution_count": 16,
   "id": "5d41e0bc",
   "metadata": {},
   "outputs": [
    {
     "data": {
      "text/plain": [
       "21.0"
      ]
     },
     "execution_count": 16,
     "metadata": {},
     "output_type": "execute_result"
    }
   ],
   "source": [
    "np.min(x)"
   ]
  },
  {
   "cell_type": "code",
   "execution_count": 17,
   "id": "804f964b",
   "metadata": {},
   "outputs": [
    {
     "data": {
      "text/plain": [
       "4"
      ]
     },
     "execution_count": 17,
     "metadata": {},
     "output_type": "execute_result"
    }
   ],
   "source": [
    "np.argmin(x)"
   ]
  },
  {
   "cell_type": "code",
   "execution_count": 18,
   "id": "dccf13c5",
   "metadata": {},
   "outputs": [
    {
     "data": {
      "text/plain": [
       "3"
      ]
     },
     "execution_count": 18,
     "metadata": {},
     "output_type": "execute_result"
    }
   ],
   "source": [
    "np.argmax(x)"
   ]
  },
  {
   "cell_type": "code",
   "execution_count": 19,
   "id": "26dcb428",
   "metadata": {},
   "outputs": [
    {
     "data": {
      "text/plain": [
       "51.24666666666667"
      ]
     },
     "execution_count": 19,
     "metadata": {},
     "output_type": "execute_result"
    }
   ],
   "source": [
    "np.mean(arr)"
   ]
  },
  {
   "cell_type": "code",
   "execution_count": 20,
   "id": "4e08ea78-360e-4acb-a794-ab696c208365",
   "metadata": {},
   "outputs": [
    {
     "data": {
      "text/plain": [
       "50.0"
      ]
     },
     "execution_count": 20,
     "metadata": {},
     "output_type": "execute_result"
    }
   ],
   "source": [
    "np.median(arr)"
   ]
  },
  {
   "cell_type": "code",
   "execution_count": 21,
   "id": "098cde45-d174-4309-9023-0cc6300b053c",
   "metadata": {},
   "outputs": [
    {
     "data": {
      "text/plain": [
       "28.933933173505615"
      ]
     },
     "execution_count": 21,
     "metadata": {},
     "output_type": "execute_result"
    }
   ],
   "source": [
    "np.std(arr)"
   ]
  },
  {
   "cell_type": "code",
   "execution_count": 22,
   "id": "e5b01c27-95e6-4211-8af0-eee7128e4fc0",
   "metadata": {},
   "outputs": [
    {
     "data": {
      "text/plain": [
       "837.1724888888888"
      ]
     },
     "execution_count": 22,
     "metadata": {},
     "output_type": "execute_result"
    }
   ],
   "source": [
    "np.var(arr)"
   ]
  },
  {
   "cell_type": "code",
   "execution_count": 23,
   "id": "66d2d5d1-21f6-44c7-b5e6-9560f1dfe66f",
   "metadata": {},
   "outputs": [
    {
     "data": {
      "text/plain": [
       "array([[[3.54211805e+093, 1.00140253e+164, 3.06803463e+076,\n",
       "         7.65142812e+187, 5.84258702e+027, 3.87792426e+078,\n",
       "         1.10250750e+054, 2.56768615e+042]]])"
      ]
     },
     "execution_count": 23,
     "metadata": {},
     "output_type": "execute_result"
    }
   ],
   "source": [
    "np.power(x, x)"
   ]
  },
  {
   "cell_type": "code",
   "execution_count": 24,
   "id": "769da054-195c-4735-83cc-4b25ec47e384",
   "metadata": {},
   "outputs": [
    {
     "name": "stdout",
     "output_type": "stream",
     "text": [
      "[ 33  48  56  23  87  89  56  55  11  18  66  29  92  38  36   6  45  79\n",
      "  71  86  41  61   1  96  88  68  84  17  80 100  99  46  89  50  98  11\n",
      "  45  31  75  64  14  87  20  92  46  82  20  87   8  39  59  96  87  45\n",
      "  12  25  80  99  80  14  96  12   3  34  54  46  24  10   2  23  92  23\n",
      "  24  64  86  51  52  37  83  58  46  90   5  53  46  50  36  91  80  10\n",
      "  65  27  70  14  98   3  72  16  48  10  36  70  63  95  50  26  15  24\n",
      "  41  70  84  34   4  52  34  37  88  16  11  25  23  26  30  53  75  32\n",
      "  10  60  34  65   7  29  21  31  99  81  33   4  88  99  66  43  92  52\n",
      "  63   9  24  77  68  55  32  62  34  41  71  56  97  84  11  43  57  84\n",
      "   3  60  20  73   5  23   1  69  46  39  67  33  37  91  19  90  58  15\n",
      "  31  31  44  10  15  15  34  69  66  32  38  34  29  60  49  62  19  21\n",
      "  99  90   5  44  85  74  77  13  82  32  65  70  62  75  44  42  61  72\n",
      "  87  29  56  59 100  40  13  98  31  99  25  87  36  69  99  47  28  73\n",
      "  35  23  23  48  96  48  55  69  89  75  11  72  99  88  15  51  24  67\n",
      "  82  32  76  90  81  34  69  92  92   3  47  82   5  61  49  12   4   7\n",
      "  11  60  78  89  38  65  89  94  16  63  19  92  25  93  96  41  92  70\n",
      "  87  50  74  66  38  13  20  28  46  85  43  51]\n"
     ]
    }
   ],
   "source": [
    "x = arr.flatten()\n",
    "print(x)"
   ]
  },
  {
   "cell_type": "code",
   "execution_count": 25,
   "id": "5ef5166d-648b-4801-a910-3538d92abdf8",
   "metadata": {},
   "outputs": [
    {
     "data": {
      "text/plain": [
       "array([  1,   1,   2,   3,   3,   3,   3,   4,   4,   4,   5,   5,   5,\n",
       "         5,   6,   7,   7,   8,   9,  10,  10,  10,  10,  10,  11,  11,\n",
       "        11,  11,  11,  11,  12,  12,  12,  13,  13,  13,  14,  14,  14,\n",
       "        15,  15,  15,  15,  15,  16,  16,  16,  17,  18,  19,  19,  19,\n",
       "        20,  20,  20,  20,  21,  21,  23,  23,  23,  23,  23,  23,  23,\n",
       "        24,  24,  24,  24,  24,  25,  25,  25,  25,  26,  26,  27,  28,\n",
       "        28,  29,  29,  29,  29,  30,  31,  31,  31,  31,  31,  32,  32,\n",
       "        32,  32,  32,  33,  33,  33,  34,  34,  34,  34,  34,  34,  34,\n",
       "        34,  35,  36,  36,  36,  36,  37,  37,  37,  38,  38,  38,  38,\n",
       "        39,  39,  40,  41,  41,  41,  41,  42,  43,  43,  43,  44,  44,\n",
       "        44,  45,  45,  45,  46,  46,  46,  46,  46,  46,  46,  47,  47,\n",
       "        48,  48,  48,  48,  49,  49,  50,  50,  50,  50,  51,  51,  51,\n",
       "        52,  52,  52,  53,  53,  54,  55,  55,  55,  56,  56,  56,  56,\n",
       "        57,  58,  58,  59,  59,  60,  60,  60,  60,  61,  61,  61,  62,\n",
       "        62,  62,  63,  63,  63,  64,  64,  65,  65,  65,  65,  66,  66,\n",
       "        66,  66,  67,  67,  68,  68,  69,  69,  69,  69,  69,  70,  70,\n",
       "        70,  70,  70,  71,  71,  72,  72,  72,  73,  73,  74,  74,  75,\n",
       "        75,  75,  75,  76,  77,  77,  78,  79,  80,  80,  80,  80,  81,\n",
       "        81,  82,  82,  82,  82,  83,  84,  84,  84,  84,  85,  85,  86,\n",
       "        86,  87,  87,  87,  87,  87,  87,  87,  88,  88,  88,  88,  89,\n",
       "        89,  89,  89,  89,  90,  90,  90,  90,  91,  91,  92,  92,  92,\n",
       "        92,  92,  92,  92,  92,  93,  94,  95,  96,  96,  96,  96,  96,\n",
       "        97,  98,  98,  98,  99,  99,  99,  99,  99,  99,  99,  99, 100,\n",
       "       100])"
      ]
     },
     "execution_count": 25,
     "metadata": {},
     "output_type": "execute_result"
    }
   ],
   "source": [
    "np.sort(x)"
   ]
  },
  {
   "cell_type": "code",
   "execution_count": 26,
   "id": "32dc950b-4e82-4ff6-9d77-d229c16f2750",
   "metadata": {},
   "outputs": [
    {
     "data": {
      "text/plain": [
       "array([100, 100,  99,  99,  99,  99,  99,  99,  99,  99,  98,  98,  98,\n",
       "        97,  96,  96,  96,  96,  96,  95,  94,  93,  92,  92,  92,  92,\n",
       "        92,  92,  92,  92,  91,  91,  90,  90,  90,  90,  89,  89,  89,\n",
       "        89,  89,  88,  88,  88,  88,  87,  87,  87,  87,  87,  87,  87,\n",
       "        86,  86,  85,  85,  84,  84,  84,  84,  83,  82,  82,  82,  82,\n",
       "        81,  81,  80,  80,  80,  80,  79,  78,  77,  77,  76,  75,  75,\n",
       "        75,  75,  74,  74,  73,  73,  72,  72,  72,  71,  71,  70,  70,\n",
       "        70,  70,  70,  69,  69,  69,  69,  69,  68,  68,  67,  67,  66,\n",
       "        66,  66,  66,  65,  65,  65,  65,  64,  64,  63,  63,  63,  62,\n",
       "        62,  62,  61,  61,  61,  60,  60,  60,  60,  59,  59,  58,  58,\n",
       "        57,  56,  56,  56,  56,  55,  55,  55,  54,  53,  53,  52,  52,\n",
       "        52,  51,  51,  51,  50,  50,  50,  50,  49,  49,  48,  48,  48,\n",
       "        48,  47,  47,  46,  46,  46,  46,  46,  46,  46,  45,  45,  45,\n",
       "        44,  44,  44,  43,  43,  43,  42,  41,  41,  41,  41,  40,  39,\n",
       "        39,  38,  38,  38,  38,  37,  37,  37,  36,  36,  36,  36,  35,\n",
       "        34,  34,  34,  34,  34,  34,  34,  34,  33,  33,  33,  32,  32,\n",
       "        32,  32,  32,  31,  31,  31,  31,  31,  30,  29,  29,  29,  29,\n",
       "        28,  28,  27,  26,  26,  25,  25,  25,  25,  24,  24,  24,  24,\n",
       "        24,  23,  23,  23,  23,  23,  23,  23,  21,  21,  20,  20,  20,\n",
       "        20,  19,  19,  19,  18,  17,  16,  16,  16,  15,  15,  15,  15,\n",
       "        15,  14,  14,  14,  13,  13,  13,  12,  12,  12,  11,  11,  11,\n",
       "        11,  11,  11,  10,  10,  10,  10,  10,   9,   8,   7,   7,   6,\n",
       "         5,   5,   5,   5,   4,   4,   4,   3,   3,   3,   3,   2,   1,\n",
       "         1])"
      ]
     },
     "execution_count": 26,
     "metadata": {},
     "output_type": "execute_result"
    }
   ],
   "source": [
    "(np.sort(x))[::-1]"
   ]
  },
  {
   "cell_type": "code",
   "execution_count": null,
   "id": "5b10155b",
   "metadata": {},
   "outputs": [
    {
     "data": {
      "text/plain": [
       "array([[ 33,  48,  56,  23,  87,  89,  56,  55,  11,  18,  66,  29,  92,\n",
       "         38,  36,   6,  45,  79,  71,  86,  41,  61,   1,  96,  88,  68,\n",
       "         84,  17,  80, 100,  99,  46,  89,  50,  98,  11,  45,  31,  75,\n",
       "         64,  14,  87,  20,  92,  46,  82,  20,  87,   8,  39,  59,  96,\n",
       "         87,  45,  12,  25,  80,  99,  80,  14,  96,  12,   3,  34,  54,\n",
       "         46,  24,  10,   2,  23,  92,  23,  24,  64,  86,  51,  52,  37,\n",
       "         83,  58,  46,  90,   5,  53,  46,  50,  36,  91,  80,  10,  65,\n",
       "         27,  70,  14,  98,   3,  72,  16,  48,  10,  36,  70,  63,  95,\n",
       "         50,  26,  15,  24,  41,  70,  84,  34,   4,  52,  34,  37,  88,\n",
       "         16,  11,  25,  23,  26,  30,  53,  75,  32,  10,  60,  34,  65,\n",
       "          7,  29,  21,  31,  99,  81,  33,   4,  88,  99,  66,  43,  92,\n",
       "         52,  63,   9,  24,  77,  68,  55,  32,  62,  34,  41,  71,  56,\n",
       "         97,  84,  11,  43,  57,  84,   3,  60,  20,  73,   5,  23,   1,\n",
       "         69,  46,  39,  67,  33,  37,  91,  19,  90,  58,  15,  31,  31,\n",
       "         44,  10,  15,  15,  34,  69,  66,  32,  38,  34,  29,  60,  49,\n",
       "         62,  19,  21,  99,  90,   5,  44,  85,  74,  77,  13,  82,  32,\n",
       "         65,  70,  62,  75,  44,  42,  61,  72,  87,  29,  56,  59, 100,\n",
       "         40,  13,  98,  31,  99,  25,  87,  36,  69,  99,  47,  28,  73,\n",
       "         35,  23,  23,  48,  96,  48,  55,  69,  89,  75,  11,  72,  99,\n",
       "         88,  15,  51,  24,  67,  82,  32,  76,  90,  81,  34,  69,  92,\n",
       "         92,   3,  47,  82,   5,  61,  49,  12,   4,   7,  11,  60,  78,\n",
       "         89,  38,  65,  89,  94,  16,  63,  19,  92,  25,  93,  96,  41,\n",
       "         92,  70,  87,  50,  74,  66,  38,  13,  20,  28,  46,  85,  43,\n",
       "         51]])"
      ]
     },
     "execution_count": 27,
     "metadata": {},
     "output_type": "execute_result"
    }
   ],
   "source": [
    "x.reshape(1,-1) # one column, multiple rows"
   ]
  },
  {
   "cell_type": "code",
   "execution_count": null,
   "id": "3126a945",
   "metadata": {},
   "outputs": [
    {
     "data": {
      "text/plain": [
       "array([[ 33],\n",
       "       [ 48],\n",
       "       [ 56],\n",
       "       [ 23],\n",
       "       [ 87],\n",
       "       [ 89],\n",
       "       [ 56],\n",
       "       [ 55],\n",
       "       [ 11],\n",
       "       [ 18],\n",
       "       [ 66],\n",
       "       [ 29],\n",
       "       [ 92],\n",
       "       [ 38],\n",
       "       [ 36],\n",
       "       [  6],\n",
       "       [ 45],\n",
       "       [ 79],\n",
       "       [ 71],\n",
       "       [ 86],\n",
       "       [ 41],\n",
       "       [ 61],\n",
       "       [  1],\n",
       "       [ 96],\n",
       "       [ 88],\n",
       "       [ 68],\n",
       "       [ 84],\n",
       "       [ 17],\n",
       "       [ 80],\n",
       "       [100],\n",
       "       [ 99],\n",
       "       [ 46],\n",
       "       [ 89],\n",
       "       [ 50],\n",
       "       [ 98],\n",
       "       [ 11],\n",
       "       [ 45],\n",
       "       [ 31],\n",
       "       [ 75],\n",
       "       [ 64],\n",
       "       [ 14],\n",
       "       [ 87],\n",
       "       [ 20],\n",
       "       [ 92],\n",
       "       [ 46],\n",
       "       [ 82],\n",
       "       [ 20],\n",
       "       [ 87],\n",
       "       [  8],\n",
       "       [ 39],\n",
       "       [ 59],\n",
       "       [ 96],\n",
       "       [ 87],\n",
       "       [ 45],\n",
       "       [ 12],\n",
       "       [ 25],\n",
       "       [ 80],\n",
       "       [ 99],\n",
       "       [ 80],\n",
       "       [ 14],\n",
       "       [ 96],\n",
       "       [ 12],\n",
       "       [  3],\n",
       "       [ 34],\n",
       "       [ 54],\n",
       "       [ 46],\n",
       "       [ 24],\n",
       "       [ 10],\n",
       "       [  2],\n",
       "       [ 23],\n",
       "       [ 92],\n",
       "       [ 23],\n",
       "       [ 24],\n",
       "       [ 64],\n",
       "       [ 86],\n",
       "       [ 51],\n",
       "       [ 52],\n",
       "       [ 37],\n",
       "       [ 83],\n",
       "       [ 58],\n",
       "       [ 46],\n",
       "       [ 90],\n",
       "       [  5],\n",
       "       [ 53],\n",
       "       [ 46],\n",
       "       [ 50],\n",
       "       [ 36],\n",
       "       [ 91],\n",
       "       [ 80],\n",
       "       [ 10],\n",
       "       [ 65],\n",
       "       [ 27],\n",
       "       [ 70],\n",
       "       [ 14],\n",
       "       [ 98],\n",
       "       [  3],\n",
       "       [ 72],\n",
       "       [ 16],\n",
       "       [ 48],\n",
       "       [ 10],\n",
       "       [ 36],\n",
       "       [ 70],\n",
       "       [ 63],\n",
       "       [ 95],\n",
       "       [ 50],\n",
       "       [ 26],\n",
       "       [ 15],\n",
       "       [ 24],\n",
       "       [ 41],\n",
       "       [ 70],\n",
       "       [ 84],\n",
       "       [ 34],\n",
       "       [  4],\n",
       "       [ 52],\n",
       "       [ 34],\n",
       "       [ 37],\n",
       "       [ 88],\n",
       "       [ 16],\n",
       "       [ 11],\n",
       "       [ 25],\n",
       "       [ 23],\n",
       "       [ 26],\n",
       "       [ 30],\n",
       "       [ 53],\n",
       "       [ 75],\n",
       "       [ 32],\n",
       "       [ 10],\n",
       "       [ 60],\n",
       "       [ 34],\n",
       "       [ 65],\n",
       "       [  7],\n",
       "       [ 29],\n",
       "       [ 21],\n",
       "       [ 31],\n",
       "       [ 99],\n",
       "       [ 81],\n",
       "       [ 33],\n",
       "       [  4],\n",
       "       [ 88],\n",
       "       [ 99],\n",
       "       [ 66],\n",
       "       [ 43],\n",
       "       [ 92],\n",
       "       [ 52],\n",
       "       [ 63],\n",
       "       [  9],\n",
       "       [ 24],\n",
       "       [ 77],\n",
       "       [ 68],\n",
       "       [ 55],\n",
       "       [ 32],\n",
       "       [ 62],\n",
       "       [ 34],\n",
       "       [ 41],\n",
       "       [ 71],\n",
       "       [ 56],\n",
       "       [ 97],\n",
       "       [ 84],\n",
       "       [ 11],\n",
       "       [ 43],\n",
       "       [ 57],\n",
       "       [ 84],\n",
       "       [  3],\n",
       "       [ 60],\n",
       "       [ 20],\n",
       "       [ 73],\n",
       "       [  5],\n",
       "       [ 23],\n",
       "       [  1],\n",
       "       [ 69],\n",
       "       [ 46],\n",
       "       [ 39],\n",
       "       [ 67],\n",
       "       [ 33],\n",
       "       [ 37],\n",
       "       [ 91],\n",
       "       [ 19],\n",
       "       [ 90],\n",
       "       [ 58],\n",
       "       [ 15],\n",
       "       [ 31],\n",
       "       [ 31],\n",
       "       [ 44],\n",
       "       [ 10],\n",
       "       [ 15],\n",
       "       [ 15],\n",
       "       [ 34],\n",
       "       [ 69],\n",
       "       [ 66],\n",
       "       [ 32],\n",
       "       [ 38],\n",
       "       [ 34],\n",
       "       [ 29],\n",
       "       [ 60],\n",
       "       [ 49],\n",
       "       [ 62],\n",
       "       [ 19],\n",
       "       [ 21],\n",
       "       [ 99],\n",
       "       [ 90],\n",
       "       [  5],\n",
       "       [ 44],\n",
       "       [ 85],\n",
       "       [ 74],\n",
       "       [ 77],\n",
       "       [ 13],\n",
       "       [ 82],\n",
       "       [ 32],\n",
       "       [ 65],\n",
       "       [ 70],\n",
       "       [ 62],\n",
       "       [ 75],\n",
       "       [ 44],\n",
       "       [ 42],\n",
       "       [ 61],\n",
       "       [ 72],\n",
       "       [ 87],\n",
       "       [ 29],\n",
       "       [ 56],\n",
       "       [ 59],\n",
       "       [100],\n",
       "       [ 40],\n",
       "       [ 13],\n",
       "       [ 98],\n",
       "       [ 31],\n",
       "       [ 99],\n",
       "       [ 25],\n",
       "       [ 87],\n",
       "       [ 36],\n",
       "       [ 69],\n",
       "       [ 99],\n",
       "       [ 47],\n",
       "       [ 28],\n",
       "       [ 73],\n",
       "       [ 35],\n",
       "       [ 23],\n",
       "       [ 23],\n",
       "       [ 48],\n",
       "       [ 96],\n",
       "       [ 48],\n",
       "       [ 55],\n",
       "       [ 69],\n",
       "       [ 89],\n",
       "       [ 75],\n",
       "       [ 11],\n",
       "       [ 72],\n",
       "       [ 99],\n",
       "       [ 88],\n",
       "       [ 15],\n",
       "       [ 51],\n",
       "       [ 24],\n",
       "       [ 67],\n",
       "       [ 82],\n",
       "       [ 32],\n",
       "       [ 76],\n",
       "       [ 90],\n",
       "       [ 81],\n",
       "       [ 34],\n",
       "       [ 69],\n",
       "       [ 92],\n",
       "       [ 92],\n",
       "       [  3],\n",
       "       [ 47],\n",
       "       [ 82],\n",
       "       [  5],\n",
       "       [ 61],\n",
       "       [ 49],\n",
       "       [ 12],\n",
       "       [  4],\n",
       "       [  7],\n",
       "       [ 11],\n",
       "       [ 60],\n",
       "       [ 78],\n",
       "       [ 89],\n",
       "       [ 38],\n",
       "       [ 65],\n",
       "       [ 89],\n",
       "       [ 94],\n",
       "       [ 16],\n",
       "       [ 63],\n",
       "       [ 19],\n",
       "       [ 92],\n",
       "       [ 25],\n",
       "       [ 93],\n",
       "       [ 96],\n",
       "       [ 41],\n",
       "       [ 92],\n",
       "       [ 70],\n",
       "       [ 87],\n",
       "       [ 50],\n",
       "       [ 74],\n",
       "       [ 66],\n",
       "       [ 38],\n",
       "       [ 13],\n",
       "       [ 20],\n",
       "       [ 28],\n",
       "       [ 46],\n",
       "       [ 85],\n",
       "       [ 43],\n",
       "       [ 51]])"
      ]
     },
     "execution_count": 28,
     "metadata": {},
     "output_type": "execute_result"
    }
   ],
   "source": [
    "x.reshape(-1,1) # one row, multiple columns"
   ]
  },
  {
   "cell_type": "markdown",
   "id": "6bed525a",
   "metadata": {},
   "source": [
    "_______"
   ]
  },
  {
   "cell_type": "code",
   "execution_count": 78,
   "id": "db5ddadc",
   "metadata": {},
   "outputs": [
    {
     "data": {
      "text/plain": [
       "0    5\n",
       "1    8\n",
       "2    9\n",
       "3    2\n",
       "4    1\n",
       "5    6\n",
       "dtype: int32"
      ]
     },
     "execution_count": 78,
     "metadata": {},
     "output_type": "execute_result"
    }
   ],
   "source": [
    "ser1 = pd.Series([5,8,9,2,1,6], dtype=int)\n",
    "ser1"
   ]
  },
  {
   "cell_type": "code",
   "execution_count": 81,
   "id": "b34ae48b",
   "metadata": {},
   "outputs": [
    {
     "data": {
      "text/plain": [
       "0        Audi\n",
       "1    Mercedes\n",
       "2         BMW\n",
       "3     Porsche\n",
       "4      Toyota\n",
       "5       Honda\n",
       "dtype: object"
      ]
     },
     "execution_count": 81,
     "metadata": {},
     "output_type": "execute_result"
    }
   ],
   "source": [
    "cars_names = pd.Series([\"Audi\", \"Mercedes\", \"BMW\", \"Porsche\", \"Toyota\", \"Honda\"], dtype=str)\n",
    "cars_names"
   ]
  },
  {
   "cell_type": "code",
   "execution_count": 91,
   "id": "610803f1",
   "metadata": {},
   "outputs": [
    {
     "data": {
      "text/html": [
       "<div>\n",
       "<style scoped>\n",
       "    .dataframe tbody tr th:only-of-type {\n",
       "        vertical-align: middle;\n",
       "    }\n",
       "\n",
       "    .dataframe tbody tr th {\n",
       "        vertical-align: top;\n",
       "    }\n",
       "\n",
       "    .dataframe thead th {\n",
       "        text-align: right;\n",
       "    }\n",
       "</style>\n",
       "<table border=\"1\" class=\"dataframe\">\n",
       "  <thead>\n",
       "    <tr style=\"text-align: right;\">\n",
       "      <th></th>\n",
       "      <th>Cars</th>\n",
       "      <th>Qtys</th>\n",
       "    </tr>\n",
       "  </thead>\n",
       "  <tbody>\n",
       "    <tr>\n",
       "      <th>0</th>\n",
       "      <td>Audi</td>\n",
       "      <td>5</td>\n",
       "    </tr>\n",
       "    <tr>\n",
       "      <th>1</th>\n",
       "      <td>Mercedes</td>\n",
       "      <td>8</td>\n",
       "    </tr>\n",
       "    <tr>\n",
       "      <th>2</th>\n",
       "      <td>BMW</td>\n",
       "      <td>9</td>\n",
       "    </tr>\n",
       "    <tr>\n",
       "      <th>3</th>\n",
       "      <td>Porsche</td>\n",
       "      <td>2</td>\n",
       "    </tr>\n",
       "    <tr>\n",
       "      <th>4</th>\n",
       "      <td>Toyota</td>\n",
       "      <td>1</td>\n",
       "    </tr>\n",
       "    <tr>\n",
       "      <th>5</th>\n",
       "      <td>Honda</td>\n",
       "      <td>6</td>\n",
       "    </tr>\n",
       "  </tbody>\n",
       "</table>\n",
       "</div>"
      ],
      "text/plain": [
       "       Cars  Qtys\n",
       "0      Audi     5\n",
       "1  Mercedes     8\n",
       "2       BMW     9\n",
       "3   Porsche     2\n",
       "4    Toyota     1\n",
       "5     Honda     6"
      ]
     },
     "execution_count": 91,
     "metadata": {},
     "output_type": "execute_result"
    }
   ],
   "source": [
    "cars = pd.DataFrame({\"Cars\": cars_names, \"Qtys\": ser1})\n",
    "cars"
   ]
  },
  {
   "cell_type": "code",
   "execution_count": 92,
   "id": "effd0017",
   "metadata": {},
   "outputs": [
    {
     "data": {
      "text/plain": [
       "(6, 2)"
      ]
     },
     "execution_count": 92,
     "metadata": {},
     "output_type": "execute_result"
    }
   ],
   "source": [
    "cars.shape"
   ]
  },
  {
   "cell_type": "code",
   "execution_count": 108,
   "id": "d320e3b1",
   "metadata": {},
   "outputs": [
    {
     "data": {
      "text/html": [
       "<div>\n",
       "<style scoped>\n",
       "    .dataframe tbody tr th:only-of-type {\n",
       "        vertical-align: middle;\n",
       "    }\n",
       "\n",
       "    .dataframe tbody tr th {\n",
       "        vertical-align: top;\n",
       "    }\n",
       "\n",
       "    .dataframe thead th {\n",
       "        text-align: right;\n",
       "    }\n",
       "</style>\n",
       "<table border=\"1\" class=\"dataframe\">\n",
       "  <thead>\n",
       "    <tr style=\"text-align: right;\">\n",
       "      <th></th>\n",
       "      <th>a</th>\n",
       "      <th>b</th>\n",
       "    </tr>\n",
       "  </thead>\n",
       "  <tbody>\n",
       "    <tr>\n",
       "      <th>0</th>\n",
       "      <td>1</td>\n",
       "      <td>2</td>\n",
       "    </tr>\n",
       "    <tr>\n",
       "      <th>1</th>\n",
       "      <td>2</td>\n",
       "      <td>4</td>\n",
       "    </tr>\n",
       "    <tr>\n",
       "      <th>2</th>\n",
       "      <td>3</td>\n",
       "      <td>6</td>\n",
       "    </tr>\n",
       "    <tr>\n",
       "      <th>3</th>\n",
       "      <td>4</td>\n",
       "      <td>8</td>\n",
       "    </tr>\n",
       "    <tr>\n",
       "      <th>4</th>\n",
       "      <td>5</td>\n",
       "      <td>10</td>\n",
       "    </tr>\n",
       "  </tbody>\n",
       "</table>\n",
       "</div>"
      ],
      "text/plain": [
       "   a   b\n",
       "0  1   2\n",
       "1  2   4\n",
       "2  3   6\n",
       "3  4   8\n",
       "4  5  10"
      ]
     },
     "execution_count": 108,
     "metadata": {},
     "output_type": "execute_result"
    }
   ],
   "source": [
    "df = pd.DataFrame({\n",
    "    \"a\": [1,2,3,4,5],\n",
    "    \"b\": [2,4,6,8,10]\n",
    "})\n",
    "df"
   ]
  },
  {
   "cell_type": "code",
   "execution_count": 109,
   "id": "0b2cc046",
   "metadata": {},
   "outputs": [
    {
     "data": {
      "text/html": [
       "<div>\n",
       "<style scoped>\n",
       "    .dataframe tbody tr th:only-of-type {\n",
       "        vertical-align: middle;\n",
       "    }\n",
       "\n",
       "    .dataframe tbody tr th {\n",
       "        vertical-align: top;\n",
       "    }\n",
       "\n",
       "    .dataframe thead th {\n",
       "        text-align: right;\n",
       "    }\n",
       "</style>\n",
       "<table border=\"1\" class=\"dataframe\">\n",
       "  <thead>\n",
       "    <tr style=\"text-align: right;\">\n",
       "      <th></th>\n",
       "      <th>a</th>\n",
       "      <th>b</th>\n",
       "      <th>c</th>\n",
       "    </tr>\n",
       "  </thead>\n",
       "  <tbody>\n",
       "    <tr>\n",
       "      <th>0</th>\n",
       "      <td>1</td>\n",
       "      <td>2</td>\n",
       "      <td>3</td>\n",
       "    </tr>\n",
       "    <tr>\n",
       "      <th>1</th>\n",
       "      <td>2</td>\n",
       "      <td>4</td>\n",
       "      <td>6</td>\n",
       "    </tr>\n",
       "    <tr>\n",
       "      <th>2</th>\n",
       "      <td>3</td>\n",
       "      <td>6</td>\n",
       "      <td>9</td>\n",
       "    </tr>\n",
       "    <tr>\n",
       "      <th>3</th>\n",
       "      <td>4</td>\n",
       "      <td>8</td>\n",
       "      <td>12</td>\n",
       "    </tr>\n",
       "    <tr>\n",
       "      <th>4</th>\n",
       "      <td>5</td>\n",
       "      <td>10</td>\n",
       "      <td>15</td>\n",
       "    </tr>\n",
       "  </tbody>\n",
       "</table>\n",
       "</div>"
      ],
      "text/plain": [
       "   a   b   c\n",
       "0  1   2   3\n",
       "1  2   4   6\n",
       "2  3   6   9\n",
       "3  4   8  12\n",
       "4  5  10  15"
      ]
     },
     "execution_count": 109,
     "metadata": {},
     "output_type": "execute_result"
    }
   ],
   "source": [
    "df[\"c\"] = df[\"a\"] + df[\"b\"]\n",
    "df"
   ]
  },
  {
   "cell_type": "code",
   "execution_count": 111,
   "id": "e3e783ff",
   "metadata": {},
   "outputs": [
    {
     "data": {
      "text/html": [
       "<div>\n",
       "<style scoped>\n",
       "    .dataframe tbody tr th:only-of-type {\n",
       "        vertical-align: middle;\n",
       "    }\n",
       "\n",
       "    .dataframe tbody tr th {\n",
       "        vertical-align: top;\n",
       "    }\n",
       "\n",
       "    .dataframe thead th {\n",
       "        text-align: right;\n",
       "    }\n",
       "</style>\n",
       "<table border=\"1\" class=\"dataframe\">\n",
       "  <thead>\n",
       "    <tr style=\"text-align: right;\">\n",
       "      <th></th>\n",
       "      <th>a</th>\n",
       "      <th>b</th>\n",
       "      <th>c</th>\n",
       "      <th>d</th>\n",
       "    </tr>\n",
       "  </thead>\n",
       "  <tbody>\n",
       "    <tr>\n",
       "      <th>0</th>\n",
       "      <td>1</td>\n",
       "      <td>2</td>\n",
       "      <td>3</td>\n",
       "      <td>5</td>\n",
       "    </tr>\n",
       "    <tr>\n",
       "      <th>1</th>\n",
       "      <td>2</td>\n",
       "      <td>4</td>\n",
       "      <td>6</td>\n",
       "      <td>20</td>\n",
       "    </tr>\n",
       "    <tr>\n",
       "      <th>2</th>\n",
       "      <td>3</td>\n",
       "      <td>6</td>\n",
       "      <td>9</td>\n",
       "      <td>45</td>\n",
       "    </tr>\n",
       "    <tr>\n",
       "      <th>3</th>\n",
       "      <td>4</td>\n",
       "      <td>8</td>\n",
       "      <td>12</td>\n",
       "      <td>80</td>\n",
       "    </tr>\n",
       "    <tr>\n",
       "      <th>4</th>\n",
       "      <td>5</td>\n",
       "      <td>10</td>\n",
       "      <td>15</td>\n",
       "      <td>125</td>\n",
       "    </tr>\n",
       "  </tbody>\n",
       "</table>\n",
       "</div>"
      ],
      "text/plain": [
       "   a   b   c    d\n",
       "0  1   2   3    5\n",
       "1  2   4   6   20\n",
       "2  3   6   9   45\n",
       "3  4   8  12   80\n",
       "4  5  10  15  125"
      ]
     },
     "execution_count": 111,
     "metadata": {},
     "output_type": "execute_result"
    }
   ],
   "source": [
    "df[\"d\"] = df[\"a\"] * (df[\"b\"] + df[\"c\"])\n",
    "df"
   ]
  },
  {
   "cell_type": "code",
   "execution_count": 119,
   "id": "0716c74e",
   "metadata": {},
   "outputs": [],
   "source": [
    "df.insert(2, \"e\", [11,15,17,19,21])"
   ]
  },
  {
   "cell_type": "code",
   "execution_count": 120,
   "id": "6e2f6236",
   "metadata": {},
   "outputs": [
    {
     "data": {
      "text/html": [
       "<div>\n",
       "<style scoped>\n",
       "    .dataframe tbody tr th:only-of-type {\n",
       "        vertical-align: middle;\n",
       "    }\n",
       "\n",
       "    .dataframe tbody tr th {\n",
       "        vertical-align: top;\n",
       "    }\n",
       "\n",
       "    .dataframe thead th {\n",
       "        text-align: right;\n",
       "    }\n",
       "</style>\n",
       "<table border=\"1\" class=\"dataframe\">\n",
       "  <thead>\n",
       "    <tr style=\"text-align: right;\">\n",
       "      <th></th>\n",
       "      <th>a</th>\n",
       "      <th>b</th>\n",
       "      <th>e</th>\n",
       "      <th>c</th>\n",
       "      <th>d</th>\n",
       "    </tr>\n",
       "  </thead>\n",
       "  <tbody>\n",
       "    <tr>\n",
       "      <th>0</th>\n",
       "      <td>1</td>\n",
       "      <td>2</td>\n",
       "      <td>11</td>\n",
       "      <td>3</td>\n",
       "      <td>5</td>\n",
       "    </tr>\n",
       "    <tr>\n",
       "      <th>1</th>\n",
       "      <td>2</td>\n",
       "      <td>4</td>\n",
       "      <td>15</td>\n",
       "      <td>6</td>\n",
       "      <td>20</td>\n",
       "    </tr>\n",
       "    <tr>\n",
       "      <th>2</th>\n",
       "      <td>3</td>\n",
       "      <td>6</td>\n",
       "      <td>17</td>\n",
       "      <td>9</td>\n",
       "      <td>45</td>\n",
       "    </tr>\n",
       "    <tr>\n",
       "      <th>3</th>\n",
       "      <td>4</td>\n",
       "      <td>8</td>\n",
       "      <td>19</td>\n",
       "      <td>12</td>\n",
       "      <td>80</td>\n",
       "    </tr>\n",
       "    <tr>\n",
       "      <th>4</th>\n",
       "      <td>5</td>\n",
       "      <td>10</td>\n",
       "      <td>21</td>\n",
       "      <td>15</td>\n",
       "      <td>125</td>\n",
       "    </tr>\n",
       "  </tbody>\n",
       "</table>\n",
       "</div>"
      ],
      "text/plain": [
       "   a   b   e   c    d\n",
       "0  1   2  11   3    5\n",
       "1  2   4  15   6   20\n",
       "2  3   6  17   9   45\n",
       "3  4   8  19  12   80\n",
       "4  5  10  21  15  125"
      ]
     },
     "execution_count": 120,
     "metadata": {},
     "output_type": "execute_result"
    }
   ],
   "source": [
    "df"
   ]
  },
  {
   "cell_type": "code",
   "execution_count": null,
   "id": "d525499a",
   "metadata": {},
   "outputs": [],
   "source": []
  },
  {
   "cell_type": "code",
   "execution_count": null,
   "id": "20fe4559",
   "metadata": {},
   "outputs": [],
   "source": []
  }
 ],
 "metadata": {
  "kernelspec": {
   "display_name": "base",
   "language": "python",
   "name": "python3"
  },
  "language_info": {
   "codemirror_mode": {
    "name": "ipython",
    "version": 3
   },
   "file_extension": ".py",
   "mimetype": "text/x-python",
   "name": "python",
   "nbconvert_exporter": "python",
   "pygments_lexer": "ipython3",
   "version": "3.12.7"
  }
 },
 "nbformat": 4,
 "nbformat_minor": 5
}
