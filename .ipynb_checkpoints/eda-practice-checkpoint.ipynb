{
 "cells": [
  {
   "cell_type": "code",
   "execution_count": null,
   "id": "6dae9133-4b8a-47f2-8b96-2e41d5788ea9",
   "metadata": {},
   "outputs": [],
   "source": [
    "import numpy as np\n",
    "import pandas as pd\n",
    "import matplotlib.pyplot as plt\n",
    "import seaborn as sns\n",
    "import numpy.random as rd"
   ]
  },
  {
   "cell_type": "markdown",
   "id": "a755ecef-0a84-47a6-8e6c-8e97fbe8499a",
   "metadata": {},
   "source": [
    "----------------"
   ]
  },
  {
   "cell_type": "code",
   "execution_count": 3,
   "id": "6d3fa002",
   "metadata": {},
   "outputs": [
    {
     "data": {
      "text/plain": [
       "array([[1, 2, 3],\n",
       "       [4, 5, 6],\n",
       "       [7, 8, 9]])"
      ]
     },
     "execution_count": 3,
     "metadata": {},
     "output_type": "execute_result"
    }
   ],
   "source": [
    "arr = np.array([[1, 2, 3], [4, 5, 6], [7, 8, 9]])\n",
    "arr"
   ]
  },
  {
   "cell_type": "code",
   "execution_count": 4,
   "id": "471516a5",
   "metadata": {},
   "outputs": [
    {
     "data": {
      "text/plain": [
       "(3, 3)"
      ]
     },
     "execution_count": 4,
     "metadata": {},
     "output_type": "execute_result"
    }
   ],
   "source": [
    "arr.shape"
   ]
  },
  {
   "cell_type": "code",
   "execution_count": 2,
   "id": "81d9a2e2",
   "metadata": {},
   "outputs": [
    {
     "name": "stdout",
     "output_type": "stream",
     "text": [
      "[[[ 1  2]\n",
      "  [ 3  4]\n",
      "  [ 5  6]]\n",
      "\n",
      " [[ 7  8]\n",
      "  [ 9 10]\n",
      "  [11 12]]\n",
      "\n",
      " [[13 14]\n",
      "  [15 16]\n",
      "  [17 18]]\n",
      "\n",
      " [[19 20]\n",
      "  [21 22]\n",
      "  [23 24]]]\n"
     ]
    }
   ],
   "source": [
    "arr = np.arange(1,25).reshape(4, 3, 2)\n",
    "print(arr)"
   ]
  },
  {
   "cell_type": "code",
   "execution_count": 5,
   "id": "60f0a25e",
   "metadata": {},
   "outputs": [
    {
     "name": "stdout",
     "output_type": "stream",
     "text": [
      "[[[1. 1. 1. 1.]\n",
      "  [1. 1. 1. 1.]\n",
      "  [1. 1. 1. 1.]]\n",
      "\n",
      " [[1. 1. 1. 1.]\n",
      "  [1. 1. 1. 1.]\n",
      "  [1. 1. 1. 1.]]\n",
      "\n",
      " [[1. 1. 1. 1.]\n",
      "  [1. 1. 1. 1.]\n",
      "  [1. 1. 1. 1.]]]\n"
     ]
    }
   ],
   "source": [
    "arr = np.ones((3,3,4))\n",
    "print(arr)"
   ]
  },
  {
   "cell_type": "code",
   "execution_count": 6,
   "id": "798967f2",
   "metadata": {},
   "outputs": [
    {
     "name": "stdout",
     "output_type": "stream",
     "text": [
      "[[[ 99  58   3 ...  63  22  36]\n",
      "  [ 42  28  16 ...  32  86  53]\n",
      "  [  1  95  94 ...  90  60  36]\n",
      "  ...\n",
      "  [  5  16  60 ...  68  12  92]\n",
      "  [ 28  94  79 ...   9  90  36]\n",
      "  [ 52  18  58 ...  10  86   3]]\n",
      "\n",
      " [[ 12  36  37 ...  45 100  27]\n",
      "  [ 65  64  15 ...  83  80  43]\n",
      "  [ 43  31   6 ...  20  77  30]\n",
      "  ...\n",
      "  [ 65   2   4 ...  40  67  12]\n",
      "  [ 16  53  32 ...  35  32  40]\n",
      "  [ 12  89  48 ...  19   8   2]]\n",
      "\n",
      " [[ 12  90  15 ...   3  63  71]\n",
      "  [ 14   5  82 ...  68  40  59]\n",
      "  [ 59   1  41 ...  50  16  80]\n",
      "  ...\n",
      "  [ 94  81  45 ... 100  62  29]\n",
      "  [ 44  25   2 ...  50  32  82]\n",
      "  [ 13  20  11 ...  43   6  82]]\n",
      "\n",
      " [[100  69  26 ...  43  74  33]\n",
      "  [ 50  89  42 ...  46  65  61]\n",
      "  [ 81  43  19 ...   8  51  85]\n",
      "  ...\n",
      "  [ 96  98  67 ...  64  69  46]\n",
      "  [  3  66  99 ...  48  19  68]\n",
      "  [ 83  46  52 ...  76  47  95]]\n",
      "\n",
      " [[100  32  11 ...  91  94  26]\n",
      "  [ 32  15  60 ...   6  79  30]\n",
      "  [ 92  19  53 ...  66  41  34]\n",
      "  ...\n",
      "  [ 99  86   8 ...  71  58  39]\n",
      "  [  5  98  19 ...  87  14  94]\n",
      "  [ 55  89  57 ...  38  71  29]]]\n"
     ]
    }
   ],
   "source": [
    "arr = rd.randint(1, 101, size = [5, 10, 25])\n",
    "print(arr)"
   ]
  },
  {
   "cell_type": "code",
   "execution_count": 7,
   "id": "6bf24167",
   "metadata": {},
   "outputs": [
    {
     "name": "stdout",
     "output_type": "stream",
     "text": [
      "[ 81  86  75  57  94  18  65   5  86  19 100  28  55  64   2  48  91  65\n",
      "  86  93  80   8  98  42]\n"
     ]
    }
   ],
   "source": [
    "arr2 = rd.randint(1, 101, size = [24])\n",
    "print(arr2)"
   ]
  },
  {
   "cell_type": "code",
   "execution_count": 8,
   "id": "8b998517",
   "metadata": {},
   "outputs": [
    {
     "data": {
      "text/plain": [
       "array([[[[3, 2, 2, 2],\n",
       "         [1, 5, 3, 5],\n",
       "         [3, 1, 4, 5],\n",
       "         [2, 1, 4, 5]],\n",
       "\n",
       "        [[2, 1, 3, 2],\n",
       "         [4, 4, 3, 3],\n",
       "         [3, 5, 1, 5],\n",
       "         [1, 3, 5, 3]],\n",
       "\n",
       "        [[3, 2, 4, 3],\n",
       "         [4, 3, 1, 2],\n",
       "         [5, 4, 5, 4],\n",
       "         [4, 2, 1, 5]]],\n",
       "\n",
       "\n",
       "       [[[4, 3, 2, 4],\n",
       "         [3, 1, 2, 4],\n",
       "         [1, 1, 4, 5],\n",
       "         [4, 1, 4, 1]],\n",
       "\n",
       "        [[5, 3, 1, 3],\n",
       "         [1, 1, 1, 4],\n",
       "         [1, 5, 3, 2],\n",
       "         [2, 3, 2, 5]],\n",
       "\n",
       "        [[1, 5, 5, 5],\n",
       "         [4, 3, 4, 4],\n",
       "         [1, 3, 2, 3],\n",
       "         [1, 1, 1, 1]]],\n",
       "\n",
       "\n",
       "       [[[2, 2, 1, 3],\n",
       "         [5, 1, 4, 4],\n",
       "         [1, 4, 2, 1],\n",
       "         [3, 2, 3, 2]],\n",
       "\n",
       "        [[1, 3, 3, 2],\n",
       "         [2, 3, 3, 3],\n",
       "         [4, 1, 3, 2],\n",
       "         [4, 5, 1, 2]],\n",
       "\n",
       "        [[5, 1, 1, 3],\n",
       "         [5, 2, 2, 5],\n",
       "         [2, 1, 4, 1],\n",
       "         [3, 1, 5, 5]]]])"
      ]
     },
     "execution_count": 8,
     "metadata": {},
     "output_type": "execute_result"
    }
   ],
   "source": [
    "rd.choice([1, 2, 3, 4, 5], size = [3, 3, 4, 4] )"
   ]
  },
  {
   "cell_type": "code",
   "execution_count": 9,
   "id": "3efa1b6b",
   "metadata": {},
   "outputs": [
    {
     "data": {
      "text/plain": [
       "array([[ 28,  91,  19, 100],\n",
       "       [ 93,  94,  86,  86],\n",
       "       [ 65,  42,   8,   2]])"
      ]
     },
     "execution_count": 9,
     "metadata": {},
     "output_type": "execute_result"
    }
   ],
   "source": [
    "rd.choice(arr2, size = [3, 4], replace = False)"
   ]
  },
  {
   "cell_type": "code",
   "execution_count": 10,
   "id": "5648f0d8",
   "metadata": {},
   "outputs": [
    {
     "data": {
      "text/plain": [
       "array([[0.65946237, 0.43639268, 0.22666672, 0.64363138, 0.43420196],\n",
       "       [0.21974703, 0.93355149, 0.69436999, 0.95848812, 0.32551558],\n",
       "       [0.40745687, 0.11627208, 0.37556515, 0.61011948, 0.44705732]])"
      ]
     },
     "execution_count": 10,
     "metadata": {},
     "output_type": "execute_result"
    }
   ],
   "source": [
    "rd.rand(3,5)"
   ]
  },
  {
   "cell_type": "code",
   "execution_count": 11,
   "id": "6adcaea6",
   "metadata": {},
   "outputs": [
    {
     "data": {
      "text/plain": [
       "array([[21, 21, 66, 46, 34],\n",
       "       [42, 60, 30, 50, 32],\n",
       "       [95, 56,  1, 84, 85]])"
      ]
     },
     "execution_count": 11,
     "metadata": {},
     "output_type": "execute_result"
    }
   ],
   "source": [
    "rd.randint(1, 101, size = [3, 5])"
   ]
  },
  {
   "cell_type": "code",
   "execution_count": 12,
   "id": "283c93d5",
   "metadata": {},
   "outputs": [
    {
     "data": {
      "text/plain": [
       "array([[ 5.12068444, 39.53508556, 67.22910496, 53.70169609, 30.85588573],\n",
       "       [75.14275122,  3.27091251, 64.49803515, 42.73983879, 57.55458571],\n",
       "       [19.06252943,  7.55349543, 65.50557791, 25.86101131,  8.19314052]])"
      ]
     },
     "execution_count": 12,
     "metadata": {},
     "output_type": "execute_result"
    }
   ],
   "source": [
    "rd.uniform(1, 101, size = [3, 5])"
   ]
  },
  {
   "cell_type": "code",
   "execution_count": 26,
   "id": "12c7243d",
   "metadata": {},
   "outputs": [
    {
     "name": "stdout",
     "output_type": "stream",
     "text": [
      "[[[[[[[[[[[[[[[ 5  5  4  5  2 47  5  2]]]]]]]]]]]]]]]\n"
     ]
    }
   ],
   "source": [
    "x = np.array([5,5,4,5,2,47,5,2], ndmin=15)\n",
    "print(x)"
   ]
  },
  {
   "cell_type": "code",
   "execution_count": 30,
   "id": "804f964b",
   "metadata": {},
   "outputs": [
    {
     "data": {
      "text/plain": [
       "4"
      ]
     },
     "execution_count": 30,
     "metadata": {},
     "output_type": "execute_result"
    }
   ],
   "source": [
    "np.argmin(x)"
   ]
  },
  {
   "cell_type": "code",
   "execution_count": 31,
   "id": "dccf13c5",
   "metadata": {},
   "outputs": [
    {
     "data": {
      "text/plain": [
       "5"
      ]
     },
     "execution_count": 31,
     "metadata": {},
     "output_type": "execute_result"
    }
   ],
   "source": [
    "np.argmax(x)"
   ]
  },
  {
   "cell_type": "code",
   "execution_count": null,
   "id": "26dcb428",
   "metadata": {},
   "outputs": [],
   "source": []
  },
  {
   "cell_type": "code",
   "execution_count": null,
   "id": "4e08ea78-360e-4acb-a794-ab696c208365",
   "metadata": {},
   "outputs": [],
   "source": []
  },
  {
   "cell_type": "code",
   "execution_count": null,
   "id": "098cde45-d174-4309-9023-0cc6300b053c",
   "metadata": {},
   "outputs": [],
   "source": []
  },
  {
   "cell_type": "code",
   "execution_count": null,
   "id": "e5b01c27-95e6-4211-8af0-eee7128e4fc0",
   "metadata": {},
   "outputs": [],
   "source": []
  },
  {
   "cell_type": "code",
   "execution_count": null,
   "id": "66d2d5d1-21f6-44c7-b5e6-9560f1dfe66f",
   "metadata": {},
   "outputs": [],
   "source": []
  },
  {
   "cell_type": "code",
   "execution_count": null,
   "id": "769da054-195c-4735-83cc-4b25ec47e384",
   "metadata": {},
   "outputs": [],
   "source": []
  },
  {
   "cell_type": "code",
   "execution_count": null,
   "id": "9a23b126-75de-4d6a-a3ab-c58753dae96d",
   "metadata": {},
   "outputs": [],
   "source": []
  },
  {
   "cell_type": "code",
   "execution_count": null,
   "id": "8e3dd250-73a0-4bae-a702-802d52b228be",
   "metadata": {},
   "outputs": [],
   "source": []
  },
  {
   "cell_type": "code",
   "execution_count": null,
   "id": "cbe105f6-e04f-47e4-8c5c-202d431aae6f",
   "metadata": {},
   "outputs": [],
   "source": []
  },
  {
   "cell_type": "code",
   "execution_count": null,
   "id": "4a65ed58-7009-4c05-8d01-94e3c2daa7cc",
   "metadata": {},
   "outputs": [],
   "source": []
  },
  {
   "cell_type": "code",
   "execution_count": null,
   "id": "91ce8801-3cc5-4f43-a9ba-bab6b816b8b9",
   "metadata": {},
   "outputs": [],
   "source": []
  },
  {
   "cell_type": "code",
   "execution_count": null,
   "id": "b137cfd8-8675-41e4-b460-19234c8d22bc",
   "metadata": {},
   "outputs": [],
   "source": []
  },
  {
   "cell_type": "code",
   "execution_count": null,
   "id": "5ef5166d-648b-4801-a910-3538d92abdf8",
   "metadata": {},
   "outputs": [],
   "source": []
  },
  {
   "cell_type": "code",
   "execution_count": null,
   "id": "32dc950b-4e82-4ff6-9d77-d229c16f2750",
   "metadata": {},
   "outputs": [],
   "source": []
  }
 ],
 "metadata": {
  "kernelspec": {
   "display_name": "Python 3 (ipykernel)",
   "language": "python",
   "name": "python3"
  },
  "language_info": {
   "codemirror_mode": {
    "name": "ipython",
    "version": 3
   },
   "file_extension": ".py",
   "mimetype": "text/x-python",
   "name": "python",
   "nbconvert_exporter": "python",
   "pygments_lexer": "ipython3",
   "version": "3.12.7"
  }
 },
 "nbformat": 4,
 "nbformat_minor": 5
}
